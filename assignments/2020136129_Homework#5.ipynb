{
 "cells": [
  {
   "cell_type": "markdown",
   "id": "4d772ea1",
   "metadata": {},
   "source": [
    "**[스크립트프로그래밍] 2020136129 최수연 Homework#5**"
   ]
  },
  {
   "cell_type": "markdown",
   "id": "2082f8e2",
   "metadata": {},
   "source": [
    "#### 1. 클래스와 모듈의 공통점과 차이점에 대해 설명하시오."
   ]
  },
  {
   "cell_type": "markdown",
   "id": "e7c48d02",
   "metadata": {},
   "source": [
    "#### [1번문제 설명]\n",
    "- 공통점: 클래스와 모듈은 별도의 이름 공간이 제공되며 객체 멤버들을 캡슐화 시킨 후 가져다 사용한다는 부분에서 동일하다.\n",
    "- 차이점: 모듈은 보통 다운받은 파일을 프로그램에 포함시켜 놓고 자유롭게 사용하는 반면 클래스는 그 목적에 맞게 각 프로세스에서 상속하여 사용한다. 클래스는 용도와 목적에 맞게 상속을 통한 인스턴스화, 인터페이스 구현이 가능하지만, 모듈은 클래스와 다르게 상속을 통한 인스턴스화, 인터페이스 구현이 불가능하다. 즉, 다른 객체에서 해당 모듈의 내부 멤버를 변경하여 사용하지 못한다."
   ]
  },
  {
   "cell_type": "markdown",
   "id": "22e98aef",
   "metadata": {},
   "source": []
  },
  {
   "cell_type": "markdown",
   "id": "74619a89",
   "metadata": {},
   "source": [
    "#### 2. 다형성에 대해 설명하고 다형성을 보여주는 자신만의 파이썬 코드 예제를 제시하시오."
   ]
  },
  {
   "cell_type": "code",
   "execution_count": 1,
   "id": "acc83a11",
   "metadata": {},
   "outputs": [
    {
     "name": "stdout",
     "output_type": "stream",
     "text": [
      "Study Cafe is in Gangnam\n",
      "PC room is in Itaewon\n"
     ]
    }
   ],
   "source": [
    "class Location:\n",
    "    def __init__(self, location):\n",
    "        self.location = location\n",
    "    def place(self):\n",
    "        print(\"This is in \" + self.location)\n",
    "        \n",
    "class StudyCafe(Location):\n",
    "    def place(self):\n",
    "        print(\"Study Cafe is in \" + self.location)\n",
    "        \n",
    "class PCroom(Location):\n",
    "    def place(self):\n",
    "        print(\"PC room is in \" + self.location)\n",
    "        \n",
    "StudyCafe1 = StudyCafe(\"Gangnam\")\n",
    "PCroom1 = PCroom(\"Itaewon\")\n",
    "StudyCafe1.place()\n",
    "PCroom1.place()"
   ]
  },
  {
   "cell_type": "markdown",
   "id": "1d91b0f8",
   "metadata": {},
   "source": [
    "#### [2번문제 설명]\n",
    "- 다형성은 다른 클래스에 속한 같은 이름의 인스턴스들이 동일한 메소드 이름으로 호출할 경우 동적으로 선택되어 수행되는 것을 말한다.\n",
    "- 위 예제는 Location 클래스를 생성하여 생성자와 place 메소드를 먼저 선언하고, StudyCafe와 PCroom 두 클래스를 새로 생성하여 Location 클래스의 메소드를 재정의한 것이다. 메소드를 재정의하는 것도 다형성의 한 예이다."
   ]
  },
  {
   "cell_type": "markdown",
   "id": "22ea7738",
   "metadata": {},
   "source": []
  },
  {
   "cell_type": "markdown",
   "id": "47704049",
   "metadata": {},
   "source": [
    "#### 3. 다음 각 요구사항 모두를 만족시키는 Counter 클래스를 코딩하시오 (정답을 각 요구사항별로 입력할 필요 없이 3번 문제에 대해 1개의 클래스 정의 코드를 제시하면 된다.)"
   ]
  },
  {
   "cell_type": "markdown",
   "id": "90ec423c",
   "metadata": {},
   "source": [
    "- 요구사항 1. 생성자에 count 값과 step 값을 인자로 받을 수 있다.\n",
    "    - count: Counter 인스턴스가 지니는 초기 정수 값\n",
    "    - step: Counter 인스턴스의 count가 증가되는 증분 (defalt 값: 1)"
   ]
  },
  {
   "cell_type": "markdown",
   "id": "f746bb67",
   "metadata": {},
   "source": [
    "- 요구사항 2. 다음과 같이 Counter의 인스턴스를 출력을 해주는 __str__() 메소드를 Counter 클래스 내에 구현하시오."
   ]
  },
  {
   "cell_type": "markdown",
   "id": "7b619fb0",
   "metadata": {},
   "source": [
    "- 요구사항 3. 다음과 같이 step에 주어진 증분만큼 count를 증가시키는 incr() 메소드를 Counter 클래스 내에 구현하시오."
   ]
  },
  {
   "cell_type": "markdown",
   "id": "79a2d5e9",
   "metadata": {},
   "source": [
    "- 요구사항 4. Counter 클래스 내에 관련 메소드를 추가하여 인스턴스 객체를 직접 호출(call)할 수 있도록 하시오. 인스턴스 객체를 직접 호출했을 때에 내부적으로 incr() 메소드를 호출하는 방법으로 구현하시오."
   ]
  },
  {
   "cell_type": "markdown",
   "id": "6744c799",
   "metadata": {},
   "source": [
    "- 요구사항 5. 다음과 같은 두 개의 산술 연산 (+, -)이 수행될 수 있도록 Counter 클래스 내에 관련 메소드를 추가하시오."
   ]
  },
  {
   "cell_type": "markdown",
   "id": "77940141",
   "metadata": {},
   "source": [
    "- 요구사항 6. 다음과 같은 관계연산 (>, <, ==)이 수행될 수 있도록 Counter 클래스 내에 관련 메소드를 추가하시오."
   ]
  },
  {
   "cell_type": "code",
   "execution_count": 2,
   "id": "8b9cf15e",
   "metadata": {
    "scrolled": true
   },
   "outputs": [
    {
     "name": "stdout",
     "output_type": "stream",
     "text": [
      "[Count (step: 1)] 10\n",
      "[Count (step: 2)] 10\n",
      "\n",
      "[Count (step: 1)] 11\n",
      "[Count (step: 2)] 12\n",
      "\n",
      "[Count (step: 1)] 12\n",
      "[Count (step: 2)] 14\n",
      "\n",
      "[Count (step: 1)] 17\n",
      "[Count (step: 2)] 9\n",
      "\n",
      "True\n",
      "False\n",
      "False\n",
      "True\n",
      "True\n",
      "False\n"
     ]
    }
   ],
   "source": [
    "class Counter:\n",
    "    def __init__(self, count, step = 1):\n",
    "        self.count = count\n",
    "        self.step = step\n",
    "    def __str__(self):\n",
    "        return '[Count (step: {})] {}'.format(self.step, self.count)\n",
    "    def incr(self):\n",
    "        self.count += self.step\n",
    "    def __call__(self):\n",
    "        return self.incr()\n",
    "    def __add__(self, other):\n",
    "        self.count = self.count + other\n",
    "        return self\n",
    "    def __sub__(self, other):\n",
    "        self.count = self.count - other\n",
    "        return self\n",
    "    def __eq__(self, other):\n",
    "        return self.count == other\n",
    "    def __gt__(self, other):\n",
    "        return self.count > other\n",
    "    def __lt__(self, other):\n",
    "        return self.count < other\n",
    "        \n",
    "c = Counter(10)\n",
    "d = Counter(10, 2)\n",
    "print(c)\n",
    "print(d)\n",
    "print()\n",
    "c.incr()\n",
    "d.incr()\n",
    "print(c)\n",
    "print(d)\n",
    "print()\n",
    "c()\n",
    "d()\n",
    "print(c)\n",
    "print(d)\n",
    "print()\n",
    "c = c + 5\n",
    "d = d - 5\n",
    "print(c)\n",
    "print(d)\n",
    "print()\n",
    "print(c > 10)\n",
    "print(d > 10)\n",
    "print(c < 10)\n",
    "print(d < 10)\n",
    "print(c == 17)\n",
    "print(d != 9)"
   ]
  },
  {
   "cell_type": "markdown",
   "id": "08b6ce0e",
   "metadata": {},
   "source": [
    "#### [3번문제 코드 설명]\n",
    "- 먼저 생성자를 만들고, str을 통해 출력을 구현하고, 나머지는 매직 매서드의 산술 연산자, 비교연산자, 호출 메소드를 사용하여 구현하였다. incr() 함수는 step을 count에 더하는 방식으로 함수를 생성하였다."
   ]
  },
  {
   "cell_type": "markdown",
   "id": "0d853780",
   "metadata": {},
   "source": []
  },
  {
   "cell_type": "markdown",
   "id": "585f0b36",
   "metadata": {},
   "source": [
    "#### 4. 다음은 내장 자료형 list를 서브클래싱하여 만든 MySet 클래스 정의 내용이다. 다음 클래스 정의에서 __init__(), __str()__(), elimicate_duplicate()의 세 개의 메소드 코드 내용을 자신이 다른 사람에게 가르친다고 생각하며 설명해보시오.\n",
    "- MySet은 집합(Set) 자료형을 정의하려는 의도하에 만들어진 클래스이다."
   ]
  },
  {
   "cell_type": "markdown",
   "id": "6d3e83dc",
   "metadata": {},
   "source": [
    "#### 5. 4번 문제에 정의된 MySet 클래스에 메소드를 추가하여 다음 각 요구사항 모두를 만족시키는 코딩을 제시하시오.\n",
    "\n",
    "- 정답을 각 요구사항별로 입력할 필요 없이 요구사항 3개 전체에 대해 1개의 MySet 클래스 정의 코드를 제시하고 주석등으로 해당 코드를 설명한다.\n",
    "- 요구사항 1. | 연산으로 두 집합의 합집합을 반환한다.\n",
    "- 요구사항 2. & 연산으로 두 집합의 교집합을 반환한다.\n",
    "- 요구사항 3. - 연산으로 두 집합의 차집합을 반환한다."
   ]
  },
  {
   "cell_type": "code",
   "execution_count": 26,
   "id": "19f425b1",
   "metadata": {},
   "outputs": [
    {
     "name": "stdout",
     "output_type": "stream",
     "text": [
      "MySet: {1, 2, 3}\n",
      "MySet: {2, 3, 4, 5, 6, 7, 8, 9}\n",
      "MySet: {1, 2, 3, 4, 5, 6, 7, 8, 9}\n",
      "MySet: {2, 3}\n",
      "MySet: {1, 2}\n"
     ]
    }
   ],
   "source": [
    "class MySet(list):\n",
    "    def __init__(self, l):\n",
    "        for e in l:\n",
    "            self.append(e)\n",
    "        MySet.eliminate_duplicate(self)\n",
    "    def __str__(self):\n",
    "        result = \"MySet: {\"\n",
    "        for e in self:\n",
    "            result = result + str(e) + \", \"\n",
    "        result = result[0:len(result)-2] + \"}\"\n",
    "        return result\n",
    "    def __and__(self, other) : # 교집합: & 연산으로 두 집합의 교집합을 반환한다.\n",
    "        return MySet(set(self) & set(other))\n",
    "    def __or__(self, other) : # 합집합: | 연산으로 두 집합의 합집합을 반환한다.\n",
    "        return MySet(set(self) | set(other))\n",
    "    def __sub__(self, other) : # 차집합: - 연산으로 두 집합의 차집합을 반환한다.\n",
    "        return MySet(set(self) - set(other))\n",
    "    @staticmethod  \n",
    "    def eliminate_duplicate(l):\n",
    "        s = []\n",
    "        for e in l:\n",
    "            if e not in s:\n",
    "                s.append(e)\n",
    "        l[:] = []\n",
    "        for e in s:\n",
    "            l.append(e)\n",
    "    \n",
    "if __name__ == \"__main__\":\n",
    "    s = MySet([1, 2, 2, 3])\n",
    "    print(s)\n",
    "    t = MySet([2, 3, 4, 5, 6, 7, 8, 8, 8, 8, 8, 9])\n",
    "    print(t)\n",
    "    u = s | t\n",
    "    print(u)\n",
    "    u = s & t\n",
    "    print(u)\n",
    "    s = MySet([1, 2, 3])\n",
    "    t = MySet([3, 4, 5])\n",
    "    u = s - t\n",
    "    print(u)"
   ]
  },
  {
   "cell_type": "markdown",
   "id": "2b0786c4",
   "metadata": {},
   "source": [
    "#### [4번문제 코드 설명]\n",
    "- 먼저 __ init __ 생성자 함수의 경우 리스트 l을 받아 for 문을 통해 리스트 내부 원소들을 맨 처음부터 전부 하나씩 리스트 뒤에서 추가한다. 그리고 해당 MySet 클래스의 eliminate_duplicate 함수를 호출한다.\n",
    "- __ str __ 함수의 경우 문자열 result가 화면에 출력되도록 반환하는데, 먼저 \"MySet: {\" 문자열을 넣고, for문을 통해 self 리스트의 해당 값들을 result에 하나씩 \", \"와 함께 추가한다. 그리고 다시 result의 맨 뒤에 있는 \", \" 공백과 콤마를 제거하기 위해 result[0:len(result)-2]로 범위를 제한하고 문자열 \"}\"를 추가하고 result를 반환한다.\n",
    "- eliminate_duplicate 함수의 경우 먼저 l을 받고 리스트 s를 새로 생성한 뒤, for문 과 if 문을 통해 만약 리스트 l에서 해당 값이 리스트 s에 없으면 s에 추가하도록 한다. 해당 for문이 끝나면 l[:] 리스트를 새로 생성하여 해당 리스트에 리스트 s의 값들을 하나씩 append 해준다."
   ]
  },
  {
   "cell_type": "markdown",
   "id": "346b9fb8",
   "metadata": {},
   "source": []
  },
  {
   "cell_type": "markdown",
   "id": "c6c894d0",
   "metadata": {},
   "source": [
    "#### 6. 5번 문제에서 정의한 MySet 클래스에 대해 다음 예제를 수행하면 오류없이 올바르게 동작하는 것을 확인할 수 있다. 다음 예제 내에 있는 len(), bool() 내장함수와 in 키워드 사용 예제가 별다른 메소드 정의를 하지 않았는 데도 올바르게 수행되는 이유를 설명하시오.\n",
    "    s = MySet([1, 2, 3, 4, 5, 6]) print(len(s)) 6\n",
    "    print(bool(s)) True print(2 in s) True"
   ]
  },
  {
   "cell_type": "code",
   "execution_count": 27,
   "id": "385e1982",
   "metadata": {},
   "outputs": [
    {
     "name": "stdout",
     "output_type": "stream",
     "text": [
      "6\n",
      "True\n",
      "True\n"
     ]
    }
   ],
   "source": [
    "s = MySet([1, 2, 3, 4, 5, 6])\n",
    "print(len(s))\n",
    "print(bool(s))\n",
    "print(2 in s)"
   ]
  },
  {
   "cell_type": "markdown",
   "id": "86adb143",
   "metadata": {},
   "source": [
    "#### [6번문제 설명]\n",
    "- 파이썬에서는 자주 사용되는 함수를 내장함수라는 이름으로 기본적으로 제공하고 있어 len()과 bool() 함수가 이에 해당한다. 그리고 in 키워드의 경우 파이썬에 이미 예약되어있는 문자열로서 다른 용도로 사용이 불가능하고 해당 키워드 in이 갖고 있는 용도로만 사용할 수 있다."
   ]
  },
  {
   "cell_type": "markdown",
   "id": "2f4cbf68",
   "metadata": {},
   "source": []
  },
  {
   "cell_type": "markdown",
   "id": "4c2bd77d",
   "metadata": {},
   "source": [
    "[Incremental Project 문제]"
   ]
  },
  {
   "cell_type": "code",
   "execution_count": null,
   "id": "3fb790df",
   "metadata": {
    "scrolled": false
   },
   "outputs": [],
   "source": [
    "import requests\n",
    "req = requests.get('http://www.koreatech.ac.kr')\n",
    "source = req.text\n",
    "#print(source)\n",
    "\n",
    "class Stack:\n",
    "    def __init__(self): #생성자\n",
    "        self.top = []\n",
    "    def __contains__(self,item): #스택에 해당 아이템이 있는지\n",
    "        return item in self.top\n",
    "    def __str__(self): #스택 반환\n",
    "        return str(self.top)\n",
    "    def __len__(self): #스택 길이 반환\n",
    "        return len(self.top)\n",
    "    def push(self, item): #추가\n",
    "        self.top.append(item)\n",
    "    def pop(self): #삭제 후 반환\n",
    "        if not self.isEmpty():\n",
    "            return self .top.pop(-1)\n",
    "        else:\n",
    "            print(\"Stack underflow\")\n",
    "            exit()\n",
    "    def peek(self): #삭제하지 않고 반환\n",
    "        if not self.isEmpty():\n",
    "            return self.top[-1]\n",
    "        else:\n",
    "            print(\"Stack overflow\")\n",
    "            exit()\n",
    "    def isEmpty(self): #비어있는지 확인\n",
    "        return len(self.top) == 0\n",
    "    def size(self): #스택 크기 반환\n",
    "        return len(self.top)\n",
    "    def clear(self): #초기화\n",
    "        self.top=[] \n",
    "    def display(self,i=0): #화면에 띄움\n",
    "        if i==len(self.top) : return\n",
    "        print(self.top[-(i+1)], end = '') \n",
    "        self.display(i+1)\n",
    "        \n",
    "def main(source):\n",
    "    a = Stack()\n",
    "    t = list()\n",
    "    i = 0\n",
    "    dict1 = {}\n",
    "    for ch in source:\n",
    "        a.push(ch)\n",
    "    x = ['(',')','\\t','\\n',' ','=','-','!','~','?','$',':','+','&','#']\n",
    "    while not a.isEmpty():\n",
    "        ch = a.pop()\n",
    "        if(a.isEmpty()): break\n",
    "        ch1 = a.peek()\n",
    "        if(ch == '<' and (ch1 not in x) and (ch2 not in x)):\n",
    "            while (len(a) != 1):\n",
    "                ch1 = a.pop()\n",
    "                if(ch1 == '>'):\n",
    "                    i += 1\n",
    "                    t.append(\" \")\n",
    "                    break\n",
    "                t.append(ch1)\n",
    "        ch2 = ch\n",
    "    t.reverse()\n",
    "    s = ''.join(t)\n",
    "    s = s.lstrip()\n",
    "    str1 = \"\"\n",
    "    for str in s:\n",
    "        if(str == ' '):\n",
    "            #print(str1)\n",
    "            if(str1 in dict1.keys()):\n",
    "                dict1.update(str1 = dict1[str1]+1)       \n",
    "            else :\n",
    "                dict1.setdefault(str1,1)\n",
    "            str1 = \"\"\n",
    "        else:  \n",
    "            str1 += str\n",
    "    if(str1 in dict1.keys()):\n",
    "        dict1.update(str1 = dict1[str1]+1)\n",
    "    else :\n",
    "        dict1.setdefault(str1,1)\n",
    "\n",
    "    tmp = sorted(dict1)\n",
    "    dict2 = {}\n",
    "    for str in tmp:\n",
    "        dict2.setdefault(str , dict1[str])\n",
    "    \n",
    "   # print(s)\n",
    "   # print('\\n')\n",
    "    num = 1\n",
    "    for i in range(len(s)):\n",
    "        if(s[i] == \" \" and s[i-1] != \" \"):\n",
    "            num += 1\n",
    "    print(\"단어 개수:\", num)\n",
    "    print(dict2)\n",
    "if __name__ == \"__main__\": main(source)"
   ]
  },
  {
   "cell_type": "markdown",
   "id": "67636475",
   "metadata": {},
   "source": []
  },
  {
   "cell_type": "markdown",
   "id": "e363e682",
   "metadata": {},
   "source": [
    "과제소감: 기말 과제랑 시험이 몰려있어서 마지막과제를 제대로 못한 것 같아 아쉽다. 그래도 이번 과제를 통해 매직 메소드에 대해 공부할 수 있어서 좋았다. 나중에 종강하고 파이썬 복습할 때 마지막 Incremental Project 문제 다시 제대로 풀어봐야겠다."
   ]
  }
 ],
 "metadata": {
  "kernelspec": {
   "display_name": "Python 3",
   "language": "python",
   "name": "python3"
  },
  "language_info": {
   "codemirror_mode": {
    "name": "ipython",
    "version": 3
   },
   "file_extension": ".py",
   "mimetype": "text/x-python",
   "name": "python",
   "nbconvert_exporter": "python",
   "pygments_lexer": "ipython3",
   "version": "3.8.8"
  }
 },
 "nbformat": 4,
 "nbformat_minor": 5
}
