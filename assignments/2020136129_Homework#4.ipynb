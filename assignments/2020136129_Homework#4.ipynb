{
 "cells": [
  {
   "cell_type": "markdown",
   "id": "4d772ea1",
   "metadata": {},
   "source": [
    "**[스크립트프로그래밍] 2020136129 최수연 Homework#4**"
   ]
  },
  {
   "cell_type": "markdown",
   "id": "2082f8e2",
   "metadata": {},
   "source": [
    "#### 1. 다음 문제를 읽고 알맞은 코드를 제시하시오."
   ]
  },
  {
   "cell_type": "markdown",
   "id": "8946df33",
   "metadata": {},
   "source": [
    "- 1) 파일 s.txt 내의 다음 내용과 함께 아래 문제의 코드를 제시하시오."
   ]
  },
  {
   "cell_type": "markdown",
   "id": "4bb6f8c8",
   "metadata": {},
   "source": [
    "    pig ham\n",
    "    cat dog\n",
    "    ham bird\n",
    "    dog pig\n",
    "\n"
   ]
  },
  {
   "cell_type": "code",
   "execution_count": 5,
   "id": "40b8359e",
   "metadata": {},
   "outputs": [],
   "source": [
    "f = open(\"s.txt\", 'w')\n",
    "f.write('''pig ham\n",
    "cat dog\n",
    "ham bird\n",
    "dog pig\n",
    "''')\n",
    "f.close()"
   ]
  },
  {
   "cell_type": "markdown",
   "id": "e7c48d02",
   "metadata": {},
   "source": [
    "#### [1-1번문제 코드 설명]\n",
    "- w 모드로 s.txt 파일을 새로 생성하여 write를 통해 위 내용을 개행문자를 사용하여 넣는다."
   ]
  },
  {
   "cell_type": "markdown",
   "id": "22e98aef",
   "metadata": {},
   "source": []
  },
  {
   "cell_type": "markdown",
   "id": "8fcfbc63",
   "metadata": {},
   "source": [
    "- 2) 파일 s.txt을 읽어서 각 라인에 있는 첫 번째 단어(문자열) 자체들을 기준으로 라인별 정렬후 파일 s1.txt에 그 결과를 기록하는 코드를 작성하시오. 즉, 프로그램 수행 후 s1.txt에 있는 파일 내용은 다음과 같다."
   ]
  },
  {
   "cell_type": "markdown",
   "id": "0bf5692e",
   "metadata": {},
   "source": [
    "    cat dog\n",
    "    dog pig\n",
    "    ham bird\n",
    "    pig ham"
   ]
  },
  {
   "cell_type": "code",
   "execution_count": 6,
   "id": "9c4b14b7",
   "metadata": {},
   "outputs": [],
   "source": [
    "f = open(\"s.txt\", 'r')\n",
    "f1 = open(\"s1.txt\", 'w')\n",
    "lines = f.readlines()\n",
    "lines.sort()\n",
    "for line in lines:\n",
    "    f1.write(line)\n",
    "f.close()\n",
    "f1.close()"
   ]
  },
  {
   "cell_type": "markdown",
   "id": "803e3fdf",
   "metadata": {},
   "source": [
    "#### [1-2번문제 코드 설명]\n",
    "- 1-1번 문제에서 생성한 s.txt 파일을 읽기모드로 열고, s1.txt 파일을 쓰기모드로 새로 생성한다.\n",
    "- s.txt 파일을 한 줄씩 가져와 리스트로 만들고 lines 변수에 저장한 후, lines를 sort() 함수를 통해 정렬한다.\n",
    "- for 문을 통해 s1.txt에 lines 리스트의 내용을 하나씩 write한다.\n",
    "- s.txt와 s1.txt 파일을 모두 닫아준다."
   ]
  },
  {
   "cell_type": "markdown",
   "id": "3f004ac1",
   "metadata": {},
   "source": []
  },
  {
   "cell_type": "markdown",
   "id": "4c93a8d7",
   "metadata": {},
   "source": [
    "- 3) 파일 s.txt을 읽어서 각 라인에 있는 두 번째 단어(문자열) 자체들을 기준으로 라인별 정렬후 파일 s2.txt에 그 결과를 기록하는 코드를 작성하시오. 즉, 프로그램 수행 후 s2.txt에 있는 파일 내용은 다음과 같다."
   ]
  },
  {
   "cell_type": "markdown",
   "id": "565493c7",
   "metadata": {},
   "source": [
    "    ham bird\n",
    "    cat dog\n",
    "    pig ham\n",
    "    dog pig"
   ]
  },
  {
   "cell_type": "code",
   "execution_count": 7,
   "id": "77cec0cb",
   "metadata": {},
   "outputs": [],
   "source": [
    "f = open(\"s.txt\", 'r')\n",
    "f2 = open(\"s2.txt\", 'w')\n",
    "lines = f.readlines()\n",
    "lines.sort(key = lambda x: x[1])\n",
    "for line in lines:\n",
    "    f2.write(line)\n",
    "f.close()\n",
    "f2.close()"
   ]
  },
  {
   "cell_type": "markdown",
   "id": "bb6cc519",
   "metadata": {},
   "source": [
    "#### [1-3번문제 코드 설명]\n",
    "- 1-1번 문제에서 생성한 s.txt 파일을 읽기모드로 열고, s2.txt 파일을 쓰기모드로 새로 생성한다.\n",
    "- s.txt 파일을 한 줄씩 가져와 리스트로 만들고 lines 변수에 저장한 후, lines를 sort() 함수를 통해 정렬한다.\n",
    "- 정렬할 때 key = lambda 를 활용하여 리스트 내 원소 x에 대해 인덱스 1번째의 값, 즉 두 번째 단어를 기준으로 라인을 정렬하도록 한다.\n",
    "- 다음 for 문을 통해 s2.txt에 lines 리스트의 내용을 하나씩 write한다.\n",
    "- s.txt와 s2.txt 파일을 모두 닫아준다."
   ]
  },
  {
   "cell_type": "markdown",
   "id": "a76dd550",
   "metadata": {},
   "source": []
  },
  {
   "cell_type": "markdown",
   "id": "96eaf800",
   "metadata": {},
   "source": [
    "- 4) 파일 s.txt을 읽어서 각 라인들에 있는 모든 단어들을 순차적으로 다시 나열하되 각 라인에 세 개의 단어들이 오도록 하여 s3.txt에 기록하는 코드를 작성하시오. 즉, 프로그램 수행 후 s3.txt에 있는 파일 내용은 다음과 같다."
   ]
  },
  {
   "cell_type": "markdown",
   "id": "d372bcf5",
   "metadata": {},
   "source": [
    "    pig ham cat\n",
    "    dog ham bird\n",
    "    dog pig"
   ]
  },
  {
   "cell_type": "code",
   "execution_count": 8,
   "id": "6756e5e6",
   "metadata": {},
   "outputs": [],
   "source": [
    "f = open(\"s.txt\", 'r')\n",
    "f3 = open(\"s3.txt\", 'w')\n",
    "lines = f.readlines()\n",
    "str1 = ''.join(lines)\n",
    "list1 = str1.split()\n",
    "count = 0\n",
    "for i in list1:\n",
    "    f3.write(i)\n",
    "    f3.write(\" \")\n",
    "    if count == 2:\n",
    "        f3.write(\"\\n\")\n",
    "        count = 0\n",
    "    else: count += 1\n",
    "f.close()\n",
    "f3.close()"
   ]
  },
  {
   "cell_type": "markdown",
   "id": "80e7a546",
   "metadata": {},
   "source": [
    "#### [1-4번문제 코드 설명]\n",
    "- 1-1번 문제에서 생성한 s.txt 파일을 읽기모드로 열고, s3.txt 파일을 쓰기모드로 새로 생성한다.\n",
    "- s.txt 파일을 한 줄씩 가져와 리스트로 만들고 lines 변수에 저장한 후, lines를 join 함수를 사용하여 문자열로 붙이고 str1에 저장한다.\n",
    "- 그리고 str1을 split 함수를 통해 공백 구분자로 분리하여 list1에 저장한다.\n",
    "- count를 0으로 초기화 선언하고, for 문을 통해 list1의 요소를 하나씩 방문하여 s3.txt에 write로 넣고 공백 문자도 하나 추가한다.\n",
    "- 이때 만약 count가 2일 경우 그 뒤에 개행문자 \\n를 붙이고 count를 0으로 바꾼다.\n",
    "- 그 외의 경우에는 count에 1을 더한다.\n",
    "- s.txt와 s3.txt 파일을 모두 닫아준다."
   ]
  },
  {
   "cell_type": "markdown",
   "id": "ecf12a15",
   "metadata": {},
   "source": []
  },
  {
   "cell_type": "markdown",
   "id": "74619a89",
   "metadata": {},
   "source": [
    "#### 2. 다음과 같은 조건들을 참고하여 회원 가입 및 로그인 프로그램을 작성하시오."
   ]
  },
  {
   "cell_type": "markdown",
   "id": "4dcf4997",
   "metadata": {},
   "source": [
    "- 1) 프로그램 시작 후 다음과 같은 메시지가 출력되어 1, 2, 3 중 하나의 값을 입력 받도록 한다."
   ]
  },
  {
   "cell_type": "markdown",
   "id": "e5353a32",
   "metadata": {},
   "source": [
    "    Welcome to Our Service\n",
    "    A. Sign Up\n",
    "    B. Sign In\n",
    "    C. Quit"
   ]
  },
  {
   "cell_type": "markdown",
   "id": "c16c6757",
   "metadata": {},
   "source": [
    "- 2) 1을 선택하면 ID, Password, Name, School의 4가지 정보를 입력받아 파일에 저장하는 프로그램을 작성한다.\n",
    "    - 2-1) 입력된 내용은 access.txt 라는 이름의 텍스트 파일 내에 저장된다.\n",
    "    - 2-2) access.txt 파일의 각 라인에는 가입된 회원 각각의 정보가 \"[id]: [password], [name], [school]\" 형태로 저장된다.\n",
    "    - 2-3) 즉, 가입 회원이 10명이면 access.txt 파일 내에 라인 수도 정확히 10개이다.\n",
    "    - 2-4) 암호화 방식은 sha 모듈을 활용한다. sha 모듈 활용 방법은 본 문제의 마지막에 제시된 sha 활용 예를 참고한다.\n",
    "        - 즉, access.txt 파일 내에 password 정보는 암호화 되어 저장되어야 한다.\n",
    "    - 2-5) 회원 정보를 입력 받을 때 id를 입력 받은 직후 access.txt를 확인하여 이미 존재하는 id가 입력되었다면 다음 메시지를 출력하고 id 정보를 다시 입력받는다.\n",
    "        - Sorry, the entered ID is already used.\n"
   ]
  },
  {
   "cell_type": "markdown",
   "id": "ab2e0f55",
   "metadata": {},
   "source": [
    "- 3) 2를 선택하면 ID, Password의 2가지 정보를 입력받는 프로그램을 작성한다.\n",
    "    - 3-1) 입력된 ID 정보가 access.txt에 존재하지 않으면 다음과 같은 메시지를 출력하고 다시 입력받는다.\n",
    "        - Sorry, you are not a registered member.\n",
    "    - 3-2) 입력된 ID가 올바르게 존재하지만 Password 정보가 access.txt 파일에 있는 정보와 불일치하면 다음과 같은 메시지를 출력하고 Password를 다시 입력받는다.\n",
    "        - Sorry, the entered password is not correct.\n",
    "        - 이 때에도 사용자가 입력한 Password 정보와 함께 sha 모듈이 활용되어야 한다.\n",
    "    - 3-3) 입력된 ID와 Password가 모두 올바르면 다음과 같은 메시지를 출력한다.\n",
    "        - Hello [name]!\n",
    "        - 위 [name]에는 access.txt에 기록되어 있는 name 정보를 출력한다."
   ]
  },
  {
   "cell_type": "markdown",
   "id": "6b87ae24",
   "metadata": {},
   "source": [
    "- 4) 3을 선택하면 프로그램이 끝난다."
   ]
  },
  {
   "cell_type": "code",
   "execution_count": 9,
   "id": "38392dd8",
   "metadata": {},
   "outputs": [
    {
     "name": "stdout",
     "output_type": "stream",
     "text": [
      "Welcome to Our Service\n",
      "  A. Sign Up\n",
      "  B. Sign In\n",
      "  C. Quit\n",
      "\n",
      "1, 2, 3 중 하나의 값을 입력하세요. 1\n",
      "ID: sooyeon\n",
      "password: asdf\n",
      "name: sooyeon\n",
      "school: koreatech\n",
      "1, 2, 3 중 하나의 값을 입력하세요. 2\n",
      "ID: sooyeon\n",
      "PW: f0e4c2f76c58916ec258f246851bea091d14d4247a2fc3e18694461b1816e13b\n",
      "Hello sooyeon!\n",
      "1, 2, 3 중 하나의 값을 입력하세요. 3\n"
     ]
    }
   ],
   "source": [
    "import hashlib\n",
    "print(\"Welcome to Our Service\\n  A. Sign Up\\n  B. Sign In\\n  C. Quit\\n\")\n",
    "global num\n",
    "num = 0\n",
    "while(num != 3):\n",
    "    num = int(input(\"1, 2, 3 중 하나의 값을 입력하세요. \"))\n",
    "    if num == 1:\n",
    "        global ID\n",
    "        while(True):\n",
    "            ID = input(\"ID: \")\n",
    "            f = open(\"access.txt\", 'r')\n",
    "            L = f.readlines()\n",
    "            L = ''.join(L)\n",
    "            L = L.split()\n",
    "            if ID == L[0]:\n",
    "                print(\"Sorry, the entered ID is already used.\")\n",
    "                continue\n",
    "            else: break\n",
    "        f = open(\"access.txt\", 'w')\n",
    "        f.write(ID)\n",
    "        f.write(\" : \")\n",
    "        pw = input(\"password: \")\n",
    "        pw_encrypted = hashlib.sha256(pw.encode()).hexdigest()\n",
    "        f.write(pw_encrypted)\n",
    "        f.write(\" , \")\n",
    "        f.write(input(\"name: \"))\n",
    "        f.write(\" , \")\n",
    "        f.write(input(\"school: \"))\n",
    "        f.write(\"\\n\")\n",
    "        f.close()\n",
    "    elif num == 2:\n",
    "        global ID_2\n",
    "        while(True):\n",
    "            ID_2 = input(\"ID: \")\n",
    "            f = open(\"access.txt\", 'r')\n",
    "            L = f.readlines()\n",
    "            L = ''.join(L)\n",
    "            L = L.split()\n",
    "            if ID_2 != L[0]:\n",
    "                print(\"Sorry, you are not a registered member.\")\n",
    "                continue\n",
    "            else: break\n",
    "        global PW_2\n",
    "        while(True):\n",
    "            PW_2 = input(\"PW: \")\n",
    "            f = open(\"access.txt\", 'r')\n",
    "            L = f.readlines()\n",
    "            L = ''.join(L)\n",
    "            L = L.split()\n",
    "            if PW_2 != L[2]:\n",
    "                print(\"Sorry, you are not a registered member.\")\n",
    "                continue\n",
    "            else: break\n",
    "        f = open(\"access.txt\", 'r')\n",
    "        L = f.readlines()\n",
    "        L = ''.join(L)\n",
    "        L = L.split()\n",
    "        print(\"Hello %s!\"%(L[4]))"
   ]
  },
  {
   "cell_type": "markdown",
   "id": "1d91b0f8",
   "metadata": {},
   "source": [
    "#### [2번문제 코드 설명]\n",
    "- 1번을 입력했을 때, ID를 먼저 입력 받고, 기존 access 파일에 있는 ID가 방금 입력받은 ID와 같을 경우 경고 메시지를 출력하고 ID를 다시 입력받을 수 있도록 해당 while문을 반복하게 하였다. 만약 같지 않을 경우에는 해당 while문을 빠져나오고 쓰기모드로 전환하여 ID를 파일에 저장한다, 그리고 pw를 입력받고 hashlib 모듈을 사용하여 해당 pw를 암호화한 후 암호화된 pw를 파일에 저장한다. 다음으로 name과 school모두 사용자에게 입력받아 파일에 저장한다.\n",
    "- 2번을 입력했을 때, 파일을 읽기모드로 열고 먼저 ID 를 입력받는다. 해당 ID가 access 파일에 존재하지 않을 경우 경고 메시지를 출력하고 ID를 다시 입력받을 수 있도록 해당 while문을 반복하게 하였다. 만약 같지 않을 경우에는 해당 while문을 빠져나온다. PW도 ID와 마찬가지로 진행된다. ID와 PW 모두 검사가 완료되어 모두 올바르면 Hello [name]!을 출력한다.\n",
    "- 3번을 입력했을 때는 num이 3이므로 while 문을 종료한다."
   ]
  },
  {
   "cell_type": "markdown",
   "id": "22ea7738",
   "metadata": {},
   "source": []
  },
  {
   "cell_type": "markdown",
   "id": "47704049",
   "metadata": {},
   "source": [
    "#### 3. range() 함수와 유사한 frange() 함수를 다음 조건을 참고하여 만드시오."
   ]
  },
  {
   "cell_type": "markdown",
   "id": "90ec423c",
   "metadata": {},
   "source": [
    "- 1) frange()의 인자 구성은 다음과 같이 range와 동일하지만 각 인수들은 음수를 받지 않는다고 가정한다."
   ]
  },
  {
   "cell_type": "markdown",
   "id": "fb0db1fa",
   "metadata": {},
   "source": [
    "    range(stop)\n",
    "    range(start, stop[, step])"
   ]
  },
  {
   "cell_type": "markdown",
   "id": "8c5a9163",
   "metadata": {},
   "source": [
    "- 2) frange() 함수의 인자에 대한 기본 시작(start) 값은 0.0이고, 기본 단계(step) 값은 0.1이다."
   ]
  },
  {
   "cell_type": "markdown",
   "id": "f8b72ec3",
   "metadata": {},
   "source": [
    "- 3) frange 사용 예\n",
    "    - 3-1) frange(0.5)\n",
    "        - [0.0, 0.1, 0.2, 0.3, 0.4]\n",
    "    - 3-2) frange(1.0, 2.0)\n",
    "        - [1.0, 1.1, 1.2, 1.3, 1.4, 1.5, 1.6, 1.7, 1.8, 1.9]\n",
    "    - 3-3) frange(2.2, 4.0, 0.5)\n",
    "        - [2.2, 2.7, 3.2, 3.7]"
   ]
  },
  {
   "cell_type": "code",
   "execution_count": 5,
   "id": "40456ed3",
   "metadata": {},
   "outputs": [
    {
     "name": "stdout",
     "output_type": "stream",
     "text": [
      "[0.0, 0.1, 0.2, 0.3, 0.4]\n",
      "[1.0, 1.1, 1.2, 1.3, 1.4, 1.5, 1.6, 1.7, 1.8, 1.9]\n",
      "[2.2, 2.7, 3.2, 3.7]\n"
     ]
    }
   ],
   "source": [
    "def frange(stop):\n",
    "    if stop > 0:\n",
    "        l = []\n",
    "        for i in range(int(stop*10)):\n",
    "            num = 0.0\n",
    "            num += i/10\n",
    "            l.append(num)\n",
    "        print(l)\n",
    "frange(0.5)\n",
    "def frange(start, stop):\n",
    "    if start >= 0 and stop > 0:\n",
    "        l = []\n",
    "        for i in range(int((stop-start)*10)):\n",
    "            num = start\n",
    "            num += i/10\n",
    "            l.append(num)\n",
    "        print(l)\n",
    "frange(1.0, 2.0)\n",
    "def frange(start = 0.0, stop = 1.0, step = 0.1):\n",
    "    if start >= 0 and stop > 0 and step > 0:\n",
    "        l = []\n",
    "        for i in range(0, int((stop-start)*10), int(step*10)):\n",
    "            num = start\n",
    "            num += i/10\n",
    "            l.append(num)\n",
    "        print(l)\n",
    "frange(2.2, 4.0, 0.5)"
   ]
  },
  {
   "cell_type": "markdown",
   "id": "08b6ce0e",
   "metadata": {},
   "source": [
    "#### [3번문제 코드 설명]\n",
    "- 하나의 인자만 받는 경우, 매개변수 인자 stop이 0보다 클 때, 리스트 l을 생성하고, stop에 10을 곱한 값을 int형으로 바꾸어 해당 값을 for문을 통해 반복한다. num을 0.0으로 초기화하고 num에 i/10을 한 값을 더한 후, num을 리스트 l에 넣는다.\n",
    "- 두 개의 인자를 받는 경우, 매개변수 start가 0보다 크거나 같고 stop이 0보다 클 때, 리스트 l을 생성하고, stop에서 start를 빼고 10을 곱한 값을 int형으로 바꾸어 해당 값을 for문을 통해 반복한다. num을 start로 초기화하고 num에 i/10을 한 값을 더한 후, num을 리스트 l에 넣는다.\n",
    "- 세 개의 인자를 받는 경우, 매개변수 start가 0보다 크거나 같고, stop과 step이 0보다 클 때, 리스트 l을 생성한다. 그리고 for 문을 통해 시작 값 0, 마지막 값은 stop에 start를 빼고 10을 곱한 값을 정수로 바꾼 값으로 설정하고, 단계 값은 step에 10을 곱한 값을 정수로 바꾼 값으로 설정한다. for문 안에서는 num을 start로 초기화하고 num에 i/10을 한 값을 더한 후, num을 리스트 l에 넣는다."
   ]
  },
  {
   "cell_type": "markdown",
   "id": "0d853780",
   "metadata": {},
   "source": []
  },
  {
   "cell_type": "markdown",
   "id": "585f0b36",
   "metadata": {},
   "source": [
    "#### 4. 가변인수를 받는 함수 sum()을 다음과 같은 조건을 참고하여 구현하시오\n",
    "- sum() 사용 예"
   ]
  },
  {
   "cell_type": "markdown",
   "id": "b1773ca6",
   "metadata": {},
   "source": [
    "    sum()\n",
    "    0\n",
    "\n",
    "    sum(1, 2)\n",
    "    3\n",
    "\n",
    "    sum(1, 2, 3, 4, 5)\n",
    "    15\n",
    "\n",
    "    sum(1, 5, 7, 2, -10)\n",
    "    5"
   ]
  },
  {
   "cell_type": "code",
   "execution_count": 6,
   "id": "19f425b1",
   "metadata": {},
   "outputs": [
    {
     "name": "stdout",
     "output_type": "stream",
     "text": [
      " sum()\n",
      " 0\n",
      " sum(1, 2)\n",
      " 3\n",
      " sum(1, 2, 3, 4, 5)\n",
      " 15\n",
      " sum(1, 5, 7, 2, -10)\n",
      " 5\n"
     ]
    }
   ],
   "source": [
    "def sum(*num):\n",
    "    result = 0\n",
    "    for i in num:\n",
    "        result += i\n",
    "    return result\n",
    "print(\" sum()\\n\", sum())\n",
    "print(\" sum(1, 2)\\n\", sum(1, 2))\n",
    "print(\" sum(1, 2, 3, 4, 5)\\n\", sum(1, 2, 3, 4, 5))\n",
    "print(\" sum(1, 5, 7, 2, -10)\\n\", sum(1, 5, 7, 2, -10))"
   ]
  },
  {
   "cell_type": "markdown",
   "id": "2b0786c4",
   "metadata": {},
   "source": [
    "#### [4번문제 코드 설명]\n",
    "- sum 함수의 매개변수를 가변인수로 받기 위해 매개변수 앞에 * 를 붙인다.\n",
    "- result 값을 0으로 초기화 선언하고 for 문을 통해 매개변수 값을 하나씩 돌려 result에 모두 더한 후, 마지막에 result 값을 반환한다."
   ]
  },
  {
   "cell_type": "markdown",
   "id": "346b9fb8",
   "metadata": {},
   "source": []
  },
  {
   "cell_type": "markdown",
   "id": "291edbdb",
   "metadata": {},
   "source": [
    "#### 5. 여러 단어로 이루어진 문자열을 입력받아 각 단어의 첫글자로 이루어진 단어를 대문자로 출력하는 myinitial() 함수를 다음 조건을 참고하여 작성하시오.\n",
    "- 1) 다음에 제시되는 함수들을 모두 이용해야 한다.\n",
    "    - split\n",
    "    - map\n",
    "    - join\n",
    "- 2) myinitial() 함수 사용 예\n",
    "    - myinitial(\"as soon as possible\")\n",
    "        - ASAP"
   ]
  },
  {
   "cell_type": "code",
   "execution_count": 7,
   "id": "1b356733",
   "metadata": {},
   "outputs": [
    {
     "name": "stdout",
     "output_type": "stream",
     "text": [
      "ASAP\n"
     ]
    }
   ],
   "source": [
    "def myinitial(text):\n",
    "    list1 = list(map(str, text.split()))\n",
    "    for i in range(len(list1)):\n",
    "        list1[i] = list1[i][0]\n",
    "    str1 = ''.join(list1)\n",
    "    print(str1.upper())\n",
    "myinitial(\"as soon as possible\")"
   ]
  },
  {
   "cell_type": "markdown",
   "id": "b06855a1",
   "metadata": {},
   "source": [
    "#### [5번문제 코드 설명]\n",
    "- 먼저 myinitial 함수 매개변수에 문자열을 text로 받는다.\n",
    "- 그리고 map 함수를 사용하여 text를 split 함수를 사용하여 공백 구분자로 분리하고 list로 변환하여 list1에 저장한다.\n",
    "- for문을 통해 list1의 인덱스 i의 0번째 값을 그냥 인덱스 i에 저장한다.\n",
    "- for문을 빠져나오면 list1을 join 함수를 사용하여 문자열로 붙여 str1에 저장한다.\n",
    "- 마지막으로 출력할 때 str1 값을 upper 함수를 사용하여 대문자로 바꾼 뒤 출력한다."
   ]
  },
  {
   "cell_type": "markdown",
   "id": "93dbafeb",
   "metadata": {},
   "source": []
  },
  {
   "cell_type": "markdown",
   "id": "c6c894d0",
   "metadata": {},
   "source": [
    "#### 6. 음이 아닌 정수 n를 입력받으면 n! (factorial)을 계산하는 myfact() 함수를 재귀적 함수로 구현하시오.\n",
    "- [옵션] 참을 수 있는 정도 만큼의 수행시간을 직접 기다려보면서 n을 늘려보도록 합시다."
   ]
  },
  {
   "cell_type": "code",
   "execution_count": 8,
   "id": "cf22edf6",
   "metadata": {},
   "outputs": [
    {
     "name": "stdout",
     "output_type": "stream",
     "text": [
      "n = 0 : 0\n",
      "n = 1 : 1\n",
      "n = 2 : 2\n",
      "n = 3 : 6\n",
      "n = 4 : 24\n",
      "n = 5 : 120\n",
      "n = 6 : 720\n",
      "n = 7 : 5040\n",
      "n = 8 : 40320\n",
      "n = 9 : 362880\n",
      "n = 10 : 3628800\n",
      "n = 11 : 39916800\n",
      "n = 12 : 479001600\n",
      "n = 13 : 6227020800\n",
      "n = 14 : 87178291200\n",
      "n = 15 : 1307674368000\n"
     ]
    }
   ],
   "source": [
    "def myfact(n):\n",
    "    if n == 0: return 0\n",
    "    elif n == 1: return 1\n",
    "    else: return n * myfact(n - 1)\n",
    "\n",
    "for i in range(16):\n",
    "    print(\"n = %d :\" %i, myfact(i))"
   ]
  },
  {
   "cell_type": "markdown",
   "id": "86adb143",
   "metadata": {},
   "source": [
    "#### [6번문제 코드 설명]\n",
    "- myfact 함수에 매개변수 n을 받고, 만약 n이 0일 때는 0, n이 1일때는 1을 반환한다.\n",
    "- 그 나머지 값들은 myfact 함수에 매개변수 n - 1을 전달하여 이 값에 n을 곱한 값을 반환하도록 한다,\n",
    "- 함수 출력은 for문을 통해 n이 15일 때까지 출력하도록 하였다."
   ]
  },
  {
   "cell_type": "markdown",
   "id": "2f4cbf68",
   "metadata": {},
   "source": []
  },
  {
   "cell_type": "markdown",
   "id": "d14eb790",
   "metadata": {},
   "source": [
    "#### 7. (서술형) import string 과 from string import * 의 차이점을 설명하시오."
   ]
  },
  {
   "cell_type": "markdown",
   "id": "34819186",
   "metadata": {},
   "source": [
    "#### [7번문제 설명]\n",
    "- import string은 현재의 네임스페이스에 string 이라는 모듈을 그냥 가져오는 것인데, from string import * 은 string 모듈의 모든 public 속성/함수를 몽땅 현재 네임스페이스 안으로 가지고 오는 것이다."
   ]
  },
  {
   "cell_type": "markdown",
   "id": "283ede41",
   "metadata": {},
   "source": []
  },
  {
   "cell_type": "markdown",
   "id": "4c2bd77d",
   "metadata": {},
   "source": [
    "[Incremental Project 문제]"
   ]
  },
  {
   "cell_type": "code",
   "execution_count": 9,
   "id": "3fb790df",
   "metadata": {
    "scrolled": false
   },
   "outputs": [
    {
     "name": "stdout",
     "output_type": "stream",
     "text": [
      "단어 개수: 591\n",
      "{'': 1, '#11월호': 1, '#Wings_Magazine': 1, '%': 1, \"'2021\": 1, \"'IT\": 1, \"'나래'\": 1, '-': 1, '041-560-1114': 1, '08': 1, '1': 1, '11월호': 1, '1위': 1, '1위·전국': 1, '1위”': 1, '1캠': 1, '2019.': 1, '2021-10-20': 1, '2021-11-15': 1, '2021-11-17': 1, '2021-11-26': 1, '2021-11-27': 1, '2021년': 1, '2022': 1, '22': 1, '25': 1, '3,296': 1, '30년': 1, '30주년': 1, '4년제': 1, '6회': 1, '84.7': 1, 'ALIO경영공시': 1, 'All': 1, 'CHI': 1, 'COVER': 1, 'Copyright': 1, 'CoverStory': 1, 'ENG': 1, 'Forum': 1, 'HRD학과': 1, 'IPP·Uni-Tech허브사업단': 1, 'IPP센터': 1, 'IPP포털': 1, 'IT융합과학경영대학원': 1, 'KOREATECH': 1, 'KOREATECH.': 1, 'KOREATECH20년': 1, 'KOREATECH소개': 1, 'LINC+사업단': 1, 'Magazine': 1, 'NEWS': 1, 'NTIS': 1, 'OJT': 1, 'PLUS': 1, 'Q&A': 1, 'SEARCH': 1, 'SNS': 1, 'STORY': 1, 'Service': 1, 'Statistics': 1, 'Story': 1, 'TOP': 1, 'VISION2020': 1, 'VOC': 1, 'Wings': 1, '[KOREATECH/한국기술교육대학교]': 1, '[개교': 1, '[포스트': 1, '[한경': 1, '[한국기술교육대,': 1, '[��상품팡팡��]디지털': 1, 'inter@koreatech.ac.kr': 1, 'reserved.': 1, 'right': 1, 'str1': 2, '“교육중심대학': 1, 'ⓒ': 1, '▶구글프레젠테이션': 1, '감염병': 1, '개교': 1, '개선사항': 1, '개요': 1, '개인정보처리방침': 1, '개최': 1, \"개최'\": 1, '건': 1, '건축공학전공': 1, '게시판': 1, '결과확인': 1, '경영공시': 1, '고객만족경영': 1, '고객만족경영체계': 1, '고용노동부': 1, '고용부': 1, '고용서비스의': 1, '고용서비스정책학과': 1, '공공데이터': 1, '공공데이터개방': 1, '공식블로그': 1, '공지사항': 1, '공학교육': 1, '교가': 1, '교과과정': 1, '교내장학금': 1, '교내주요기관': 1, '교수학습센터': 1, '교양학부': 1, '교외장학금': 1, '교육': 1, '교육목표': 1, '교육부': 1, '교육장비검색': 1, '교육중심대학(11년연속)': 1, '교육콘서트': 1, '교직원': 1, '교환학생안내': 1, '구매입찰': 1, '국민권익위원회': 1, '국제교류': 1, '국제교류현황': 1, '국제교육센터': 1, '국제협력프로그램': 1, '규정집': 1, '근로복지공단': 1, '기계공학부': 1, '기념사업': 1, '기부자예우': 1, '기술리더,': 1, '기증': 1, '기획재정부': 1, '날': 1, '네이버': 1, '네이버블로그': 1, '능력개발교육원': 1, '다담창의센터': 1, '다산정보관': 1, '닫기': 1, '대외유관기관': 1, '대학': 1, '대학,': 1, '대학/대학원': 1, '대학생활': 1, '대학소개': 1, '대학소식지': 1, '대학알리미': 1, '대학요람': 1, '대학원': 1, '대학원소개': 1, '대학정보공시': 1, '대학조직': 1, '대학캠퍼스투어': 1, '대학특성': 1, '대학혁신사업단': 1, '대학혁신지원사업': 1, '대학현황': 1, '대학홍보영상': 1, '대한민국': 1, '더보기': 1, '데이터의견수렴·오류신고': 1, '도로명주소안내': 1, '도서관이용안내': 1, '도제허브사업단': 1, '동아리안내': 1, '듀얼공동훈련센터허브사업단': 1, '디자인·건축공학부': 1, '디자인공학전공': 1, '리크루트': 1, '리터러시': 1, '만들었다]': 1, '메카트로닉스공학부': 1, '모금캠페인': 1, '모델': 1, '모바일화폐(페이코)사용안내': 1, '모의성적계산': 1, '모집': 1, '무선랜사용신청': 1, '무선랜신청': 1, \"미래'\": 1, '민간투자사업': 1, '민방위안내': 1, '및': 1, '반도체': 1, '발자취': 1, '발전과': 1, '발전기금': 1, '발전기금소식': 1, '변동': 1, '병무안내': 1, '병무안내관련사이트': 1, '병사안내': 1, '보건실안내': 1, '보기': 1, '보는': 1, '보지': 1, '본문바로가기': 1, '부패행위': 1, '부패행위신고': 1, '분포현황': 1, '비전': 1, '사람인': 1, '사업소개': 1, '사업소식': 1, '사업실명제': 1, '사전정보공표목록': 1, '사진으로': 1, '사회봉사센터': 1, '산업경영학부': 1, '산업통상자원부': 1, '산학협력단': 1, '상담진로개발센터': 1, '생활관': 1, '생활관)': 1, '생활관자치회': 1, '생활협동조합': 1, '서비스': 1, '서비스메뉴': 1, '선포식': 1, '성과를': 1, '셔틀버스': 1, '소프트웨어사용안내': 1, '수강신청': 1, '수령액': 1, '수시': 1, '수준의': 1, '스킵네비게이션': 1, '시대..미래기술': 1, '시설보수신청': 1, '시설현황': 1, '식단': 1, '신고': 1, '신문고': 1, '신청자': 1, '심볼': 1, '심화과정': 1, '아우누리': 1, '안내': 1, '안전': 1, '안전보건경영': 1, '안전보건관계법령': 1, '안전보건방침': 1, '않기': 1, '알리오': 1, '어학연수안내': 1, '언론기사': 1, '언론보도영상': 1, '에너지신소재화학공학부': 1, '엠블럼': 1, '역대총장': 1, '연혁': 1, '열려]': 1, '열린총장실': 1, '예비대학생': 1, '오늘': 1, '오늘의': 1, '오류신고': 1, '온라인': 1, '온라인교육': 1, '온라인교육지원': 1, '온라인평생교육원': 1, '요청': 1, '우측내용': 1, '워크넷': 1, '원격지원': 1, '원격훈련심사센터': 1, '웹갤러리': 1, '웹메일': 1, '위': 1, '위드': 1, '위원장': 1, '유튜브': 1, '윤리헌장': 1, '융합학과': 1, '은행업무': 1, '의': 1, '의견란': 1, '이루었습니다.': 1, '이메일무단수집거부': 1, '이수': 1, '익명신고': 1, '인권/성평등': 1, '인사말': 1, '인스타그램': 1, '인재상': 1, '인크루트': 1, '인터넷정보공개청구': 1, '인터넷증명발급': 1, '인터뷰]': 1, '일반공지': 1, '일반대학원': 1, '일반인': 1, '일학습병행': 1, '일학습병행대학': 1, '입시요강': 1, '입학안내': 1, '입학정보': 1, '입학정보를': 1, '자료': 1, '자료실': 1, '자세히': 1, '자주찾는': 1, '잡코리아': 1, '장비기술교육센터': 1, '장학공지': 1, '장학금': 1, '장학제도': 1, '재생': 1, '재정현황': 1, '재학생': 1, '재학생현황': 1, '전국': 1, '전기전자통신공학부': 1, '전년도': 1, '전시회': 1, '전체메뉴닫기': 1, '전체메뉴보기': 1, '전체메뉴열기': 1, '전화번호검색': 1, '전화번호찾기': 1, '정보공개': 1, '정보공개업무편람': 1, '정보공개이의신청': 1, '정보공개제도안내': 1, '정보를': 1, '정지': 1, '제': 1, '제공합니다.': 1, '조직구성': 1, '졸업': 1, '졸업작품': 1, '종합전형': 1, '좌측내용': 1, '주메뉴바로가기': 1, '주요사이트': 1, '중앙일보대학평가‘교육중심대학’': 1, '증명서발급': 1, '직업능력심사평가원': 1, '직장예비군안내': 1, '참여하기': 1, '창업지원센터': 1, '찾아오시는길': 1, '채용공지': 1, '천안시청': 1, '천원': 1, '청년워크넷': 1, '청렴게시판': 1, '청렴자료실': 1, '청탁금지법': 1, '초청의': 1, '총장님': 1, '총장동정': 1, '총장실': 1, '총장인사말': 1, '총장프로필': 1, '총학생회': 1, '최고': 1, '최고경영자과정': 1, '최신': 1, '추진체계': 1, '충청남도청': 1, '취업관련': 1, '취업률': 1, '취업정보': 1, '캠퍼스': 1, '캠퍼스생활': 1, '캠퍼스투어': 1, '커뮤니티': 1, '컴퓨터공학부': 1, '코로나': 1, '코로나!]': 1, '코로나19관련공지': 1, '코리아텍': 1, '코리아텍방송국': 1, '코리아텍소개': 1, '코리아텍의': 1, '테크노인력개발전문대학원': 1, '토론회': 1, '통학/셔틀버스안내': 1, '통학·': 1, '특수교과': 1, '특장점': 1, '팝업닫기': 1, '팝업존': 1, '페이스북': 1, '포토갤러리': 1, '포토갤러리더보기': 1, '하루': 1, '학과안내': 1, '학교법인임원공시': 1, '학부모': 1, '학부모님': 1, '학부소개': 1, '학사공지': 1, '학사안내': 1, '학사일정': 1, '학사종합서비스': 1, '학사종합시스템': 1, '학생부': 1, '학생이': 1, '학생자치단체': 1, '학생증발급': 1, '학적': 1, '한국고용노동교육원': 1, '한국고용정보원': 1, '한국교육개발원': 1, '한국기술교육대학교': 1, '한국노동연구원': 1, '한국산업안전보건공단': 1, '한국산업인력공단': 1, '한국장애인고용공단': 1, '한국직업능력개발원': 1, '한국폴리텍대학': 1, '한기대...취업률': 1, '함께하는': 1, '합격자발표': 1, '해외연수': 1, '행복한': 1, '행사참여신청': 1, '행사참여안내': 1, '행정공시': 1, '행정서비스헌장': 1, '행정정보소재': 1, '홈페이지': 1, '홍보관련영상': 1, '홍보대사': 1, '홍보브로셔': 1, '홍보영상물': 1, '활용법◀': 1, '회계공시': 1, '후원커뮤니티': 1}\n"
     ]
    }
   ],
   "source": [
    "import requests\n",
    "req = requests.get('http://www.koreatech.ac.kr')\n",
    "source = req.text\n",
    "#print(source)\n",
    "\n",
    "class Stack:\n",
    "    def __init__(self): #생성자\n",
    "        self.top = []\n",
    "    def __contains__(self,item): #스택에 해당 아이템이 있는지\n",
    "        return item in self.top\n",
    "    def __str__(self): #스택 반환\n",
    "        return str(self.top)\n",
    "    def __len__(self): #스택 길이 반환\n",
    "        return len(self.top)\n",
    "    def push(self, item): #추가\n",
    "        self.top.append(item)\n",
    "    def pop(self): #삭제 후 반환\n",
    "        if not self.isEmpty():\n",
    "            return self .top.pop(-1)\n",
    "        else:\n",
    "            print(\"Stack underflow\")\n",
    "            exit()\n",
    "    def peek(self): #삭제하지 않고 반환\n",
    "        if not self.isEmpty():\n",
    "            return self.top[-1]\n",
    "        else:\n",
    "            print(\"Stack overflow\")\n",
    "            exit()\n",
    "    def isEmpty(self): #비어있는지 확인\n",
    "        return len(self.top) == 0\n",
    "    def size(self): #스택 크기 반환\n",
    "        return len(self.top)\n",
    "    def clear(self): #초기화\n",
    "        self.top=[] \n",
    "    def display(self,i=0): #화면에 띄움\n",
    "        if i==len(self.top) : return\n",
    "        print(self.top[-(i+1)], end = '') \n",
    "        self.display(i+1)\n",
    "        \n",
    "def main(source):\n",
    "    a = Stack()\n",
    "    t = list()\n",
    "    i = 0\n",
    "    dict1 = {}\n",
    "    for ch in source:\n",
    "        a.push(ch)\n",
    "    x = ['(',')','\\t','\\n',' ','=','-','!','~','?','$',':','+','&','#']\n",
    "    while not a.isEmpty():\n",
    "        ch = a.pop()\n",
    "        if(a.isEmpty()): break\n",
    "        ch1 = a.peek()\n",
    "        if(ch == '<' and (ch1 not in x) and (ch2 not in x)):\n",
    "            while (len(a) != 1):\n",
    "                ch1 = a.pop()\n",
    "                if(ch1 == '>'):\n",
    "                    i += 1\n",
    "                    t.append(\" \")\n",
    "                    break\n",
    "                t.append(ch1)\n",
    "        ch2 = ch\n",
    "    t.reverse()\n",
    "    s = ''.join(t)\n",
    "    s = s.lstrip()\n",
    "    str1 = \"\"\n",
    "    for str in s:\n",
    "        if(str == ' '):\n",
    "            #print(str1)\n",
    "            if(str1 in dict1.keys()):\n",
    "                dict1.update(str1 = dict1[str1]+1)       \n",
    "            else :\n",
    "                dict1.setdefault(str1,1)\n",
    "            str1 = \"\"\n",
    "        else:  \n",
    "            str1 += str\n",
    "    if(str1 in dict1.keys()):\n",
    "        dict1.update(str1 = dict1[str1]+1)\n",
    "    else :\n",
    "        dict1.setdefault(str1,1)\n",
    "\n",
    "    tmp = sorted(dict1)\n",
    "    dict2 = {}\n",
    "    for str in tmp:\n",
    "        dict2.setdefault(str , dict1[str])\n",
    "    \n",
    "   # print(s)\n",
    "   # print('\\n')\n",
    "    num = 1\n",
    "    for i in range(len(s)):\n",
    "        if(s[i] == \" \" and s[i-1] != \" \"):\n",
    "            num += 1\n",
    "    print(\"단어 개수:\", num)\n",
    "    print(dict2)\n",
    "if __name__ == \"__main__\": main(source)"
   ]
  },
  {
   "cell_type": "markdown",
   "id": "67636475",
   "metadata": {},
   "source": []
  },
  {
   "cell_type": "markdown",
   "id": "e363e682",
   "metadata": {},
   "source": [
    "과제소감: 시간을 효율적으로 쓰지 못해서 마지막 Incremental Project를 풀지 못했다. 다음 과제5 하기 전에 이번 Incremental Project를 빨리 풀어봐야겠다."
   ]
  }
 ],
 "metadata": {
  "kernelspec": {
   "display_name": "Python 3",
   "language": "python",
   "name": "python3"
  },
  "language_info": {
   "codemirror_mode": {
    "name": "ipython",
    "version": 3
   },
   "file_extension": ".py",
   "mimetype": "text/x-python",
   "name": "python",
   "nbconvert_exporter": "python",
   "pygments_lexer": "ipython3",
   "version": "3.8.8"
  }
 },
 "nbformat": 4,
 "nbformat_minor": 5
}
