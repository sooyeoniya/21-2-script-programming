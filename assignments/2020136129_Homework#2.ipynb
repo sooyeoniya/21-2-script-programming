{
 "cells": [
  {
   "cell_type": "markdown",
   "id": "436bb2ee",
   "metadata": {},
   "source": [
    "**[스크립트프로그래밍] 2020136129 최수연 Homework#2**"
   ]
  },
  {
   "cell_type": "markdown",
   "id": "7992e135",
   "metadata": {},
   "source": [
    "#### 1. 다음 6 개의 Expression에 대해 Evaluation 결과 값을 출력하고, 해당 결과가 나온 이유에 대해 설명하시오.\n",
    " - 1 and 2 and 3 and 4\n",
    " - 1 or 2 or 3 or 4\n",
    " - 1 and 2 or 3 and 4\n",
    " - (1 and 2) or (3 and 4)\n",
    " - 1 or 2 and 3 or 4\n",
    " - (1 or 2) and (3 or 4)"
   ]
  },
  {
   "cell_type": "code",
   "execution_count": 1,
   "id": "e73152e6",
   "metadata": {},
   "outputs": [
    {
     "name": "stdout",
     "output_type": "stream",
     "text": [
      "4 1 2 2 1 3 "
     ]
    }
   ],
   "source": [
    "print(1 and 2 and 3 and 4, end = ' ')\n",
    "print(1 or 2 or 3 or 4, end = ' ')\n",
    "print(1 and 2 or 3 and 4, end = ' ')\n",
    "print((1 and 2) or (3 and 4), end = ' ')\n",
    "print(1 or 2 and 3 or 4, end = ' ')\n",
    "print((1 or 2) and (3 or 4), end = ' ')"
   ]
  },
  {
   "cell_type": "markdown",
   "id": "5b7ba5ed",
   "metadata": {},
   "source": [
    "#### [1번문제 코드 설명]\n",
    "- x and y가 있을 때, x가 True이면 y, x가 False이면 x를 반환한다.\n",
    "- x or y가 있을 때, x가 True이면 x, x가 False이면 y를 반환한다.\n",
    "- and 와 or 연산자가 같이 있을 때에는 and가 우선순위가 높으므로 먼저 계산한다.\n",
    " - 1 and 2 and 3 and 4\n",
    "     - 1 and 2를 비교했을 때 1이 True이므로 2를 반환한다.\n",
    "     - 2 and 3을 비교했을 때 2가 True이므로 3을 반환한다.\n",
    "     - 3 and 4를 비교했을 때 3이 True이므로 4를 반환한다.\n",
    "     - 따라서 결과는 4가 출력이 된다.\n",
    " - 1 or 2 or 3 or 4\n",
    "     - 1 or 2를 비교했을 때 1이 True이므로 1을 반환한다.\n",
    "     - 1 or 3을 비교했을 때 1이 True이므로 1을 반환한다.\n",
    "     - 1 or 4를 비교했을 때 1이 True이므로 1을 반환한다.\n",
    "     - 따라서 결과는 1이 출력이 된다.\n",
    " - 1 and 2 or 3 and 4\n",
    "     - 1 and 2를 비교했을 때 1이 True이므로 2를 반환한다.\n",
    "     - 3 and 4를 비교했을 때 3이 True이므로 4를 반환한다.\n",
    "     - 2 or 4를 비교했을 때 2가 True이므로 2를 반환한다.\n",
    "     - 따라서 결과는 2가 출력이 된다.\n",
    " - (1 and 2) or (3 and 4)\n",
    "     - 1 and 2를 비교했을 때 1이 True이므로 2를 반환한다.\n",
    "     - 3 and 4를 비교했을 때 3이 True이므로 4를 반환한다.\n",
    "     - 2 or 4를 비교했을 때 2가 True이므로 2를 반환한다.\n",
    "     - 따라서 결과는 2가 출력이 된다.\n",
    " - 1 or 2 and 3 or 4\n",
    "     - 2 and 3을 비교했을 때 2가 True이므로 3을 반환한다.\n",
    "     - 1 or 2을 비교했을 때 1이 True이므로 1을 반환한다.\n",
    "     - 1 or 4를 비교했을 때 1이 True이므로 1을 반환한다.\n",
    "     - 따라서 결과는 1이 출력이 된다.\n",
    " - (1 or 2) and (3 or 4)\n",
    "     - 1 or 2를 비교했을 때 1이 True이므로 1을 반환한다.\n",
    "     - 3 or 4를 비교했을 때 3이 True이므로 3을 반환한다.\n",
    "     - 1 and 3을 비교했을 때 1이 True이므로 3을 반환한다.\n",
    "     - 따라서 결과는 3이 출력이 된다."
   ]
  },
  {
   "cell_type": "markdown",
   "id": "61fcd892",
   "metadata": {},
   "source": []
  },
  {
   "cell_type": "markdown",
   "id": "9beee2b4",
   "metadata": {},
   "source": [
    "#### 2. 경로에 해당하는 문자열 1개를 입력 받아 그 안에 디렉토리 경로명과 파일명을 분리하여 리스트로 반환하는 함수 div_path(s)를 작성하시오.\n",
    "- 인자로 전달하는 문자열은 경로만 들어간다고 가정한다.\n",
    "- 각 디렉토리와 파일을 구분하는 문자는 '/'로 가정한다.\n",
    "- 반환하는 리스트의 첫번째 원소는 디렉토리이고 두번째 원소는 파일명이다.\n",
    "- 다음과 같은 실행 및 출력 결과가 도출되어야 한다.\n",
    "    - div_path('/usr/local/bin/python')\n",
    "        - ['/usr/local/bin', 'python']\n",
    "    - div_path('/home/chulsoo/test.txt')\n",
    "        - ['/home/chulsoo', 'test.txt']\n",
    "- [참고] 리스트(l) 내에 새로운 정수값 (예를 들어 10)을 넣는 방법은 l.append(10) 이다."
   ]
  },
  {
   "cell_type": "code",
   "execution_count": 2,
   "id": "bbae6ade",
   "metadata": {},
   "outputs": [
    {
     "name": "stdout",
     "output_type": "stream",
     "text": [
      "/usr/local/bin/python\n",
      "['/usr/local/bin', 'python']\n",
      "\n",
      "/home/chulsoo/test.txt\n",
      "['/home/chulsoo', 'test.txt']\n"
     ]
    }
   ],
   "source": [
    "def div_path(s):\n",
    "    a = s.split('/')\n",
    "    b = [a[-1]]\n",
    "    del a[-1]\n",
    "    a = ('/').join(a)\n",
    "    a = a.split()\n",
    "    s = a + b\n",
    "    return s\n",
    "    \n",
    "print(div_path(input()))\n",
    "print()\n",
    "print(div_path(input()))"
   ]
  },
  {
   "cell_type": "markdown",
   "id": "62a2b1dd",
   "metadata": {},
   "source": [
    "#### [2번문제 코드 설명]\n",
    "- div_path 함수에 매개변수 s를 입력받아 s를 '/' 구분자로 나누어 리스트로 변환한 것을 a에 담는다.\n",
    "- a 리스트의 마지막 값을 b 리스트에 담고 a 리스트의 마지막 값을 삭제한다.\n",
    "- a 리스트에 있는 값을 join 함수를 통해 '/' 구분자로 하나로 붙이고 문자열로 반환한다.\n",
    "- 문자열 a를 리스트 a로 바꿔주기 위해 split 함수를 사용한다.\n",
    "- 리스트 a와 리스트 b를 합쳐서 s에 담고 s를 반환한다."
   ]
  },
  {
   "cell_type": "markdown",
   "id": "37cd7ca4",
   "metadata": {},
   "source": []
  },
  {
   "cell_type": "markdown",
   "id": "eeb7e14b",
   "metadata": {},
   "source": [
    "#### 3. 두 개의 리스트를 인자로 받아서 그 두 개의 리스트에 대한 '합집합'을 반환하는 함수 list_union(lista, listb)를 작성하시오.\n",
    "- 집합 자료형 set은 사용하지 않는다.\n",
    "- 인자로 전달하는 리스트 2 개에는 정수값만 들어간다고 가정하자.\n",
    "- 함수 내에서 새로운 리스트를 만들어 그 리스트 내에 인자로 받은 두 리스트의 모든 원소를 넣어 반환한다.\n",
    "- 반환하는 리스트에는 절대로 중복된 원소가 들어 있으면 안된다 (집합의 조건).\n",
    "- 반환하는 리스트는 정렬이 되어 있어야 한다.\n",
    "- 다음과 같은 실행 및 출력 결과가 도출되어야 한다.\n",
    "    - list_union([1, 2, 3], [1, 2, 4])\n",
    "        - [1, 2, 3, 4]\n",
    "    - list_union([-10, -5, 0, -1], [100, 9, 0, 9])\n",
    "        - [-10, -5, -1, 0, 9, 100]\n",
    "    - list_union([0, 1, 2], [0, 1, 2])\n",
    "        - [0, 1, 2]\n",
    "- [참고] 리스트(l) 내에 새로운 정수값 (예를 들어 10)을 넣는 방법은 l.append(10) 이다.\n",
    "- [참고] 임의의 정수값 (x)이 리스트 (l) 내에 존재하는지 판단하는 방법은 x in l 이다."
   ]
  },
  {
   "cell_type": "code",
   "execution_count": 3,
   "id": "0b3b301e",
   "metadata": {},
   "outputs": [
    {
     "name": "stdout",
     "output_type": "stream",
     "text": [
      "1 2 3\n",
      "1 2 4\n",
      "[1, 2, 3, 4]\n",
      "\n",
      "-10 -5 0 -1\n",
      "100 9 0 9\n",
      "[-10, -5, -1, 0, 9, 100]\n",
      "\n",
      "0 1 2\n",
      "0 1 2\n",
      "[0, 1, 2]\n",
      "\n"
     ]
    }
   ],
   "source": [
    "def list_union(lista, listb):\n",
    "    new_list = sorted(lista + listb)\n",
    "    inx = list()\n",
    "    for i in range(len(new_list)-1):\n",
    "        for j in range(i+1, len(new_list)):\n",
    "            if new_list[i] == new_list[j]:\n",
    "                inx.append(new_list[j])\n",
    "    for i in range(len(inx)):\n",
    "        for j in range(len(new_list)):\n",
    "            if(inx[i] == new_list[j]):\n",
    "                del new_list[j]\n",
    "                break\n",
    "    return new_list\n",
    "\n",
    "for i in range(3):\n",
    "    lista = list(map(int, input().split()))\n",
    "    listb = list(map(int, input().split()))\n",
    "    print(list_union(lista, listb), end = \"\\n\\n\")"
   ]
  },
  {
   "cell_type": "markdown",
   "id": "fc15f3cb",
   "metadata": {},
   "source": [
    "#### [3번문제 코드 설명]\n",
    "- 두 리스트에 정수값을 입력받을 때 split을 사용하여 문자열 사이에 띄어쓰기로 구분하여 입력받고 map을 사용하여 정수값으로 바꾼다.\n",
    "- 두 리스트를 list_union 함수의 매개변수로 보내고, 두 리스트를 더한 것에 오름차순으로 정렬한 리스트를 new_list에 저장한다.\n",
    "- 중간에 필요한 inx 리스트도 생성하고 이중 for문을 두 번 사용하여 중복된 값을 빼준다.\n",
    "- 먼저 첫 번째 이중 for문은 new_list에서 겹치는 원소를 찾아 그 값을 inx에 넣어준다.\n",
    "- 두 번째 이중 for문에서는 new_list에서 inx에 넣은 값을 찾아 삭제해준다."
   ]
  },
  {
   "cell_type": "markdown",
   "id": "a3f22cf8",
   "metadata": {},
   "source": []
  },
  {
   "cell_type": "markdown",
   "id": "320a12c7",
   "metadata": {},
   "source": [
    "#### 4. 두 개의 리스트를 인자로 받아서 그 두 개의 리스트에 대한 '교집합'을 반환하는 함수 list_intersection(lista, listb)와 '차집합'을 반환하는 함수 list_difference(lista, listb)를 작성하시오.\n",
    "- 모든 가정과 조건은 3번 문제와 동일하다."
   ]
  },
  {
   "cell_type": "code",
   "execution_count": 4,
   "id": "7556d6cc",
   "metadata": {},
   "outputs": [
    {
     "name": "stdout",
     "output_type": "stream",
     "text": [
      "1 2 3\n",
      "1 2 4\n",
      "교집합:  [1, 2]\n",
      "차집합:  [3]\n",
      "\n",
      "-10 -5 0 -1\n",
      "100 9 0 9\n",
      "교집합:  [0]\n",
      "차집합:  [-10, -5, -1]\n",
      "\n",
      "0 1 2\n",
      "0 1 2\n",
      "교집합:  [0, 1, 2]\n",
      "차집합:  []\n",
      "\n"
     ]
    }
   ],
   "source": [
    "def list_intersection(lista, listb):\n",
    "    inx = list()\n",
    "    new_list = list()\n",
    "    for i in range(len(lista)):\n",
    "        for j in range(len(listb)):\n",
    "            if(lista[i] == listb[j]):\n",
    "                inx.append(lista[i])\n",
    "    for i in range(len(inx)):\n",
    "        if(new_list.count(inx[i]) < 1):\n",
    "            new_list.append(inx[i])\n",
    "    return sorted(new_list)\n",
    "    \n",
    "def list_difference(lista, listb):\n",
    "    inx = list()\n",
    "    if(len(lista)>=len(listb)):\n",
    "        for i in range(len(lista)):\n",
    "            for j in range(len(listb)):\n",
    "                if(lista[i] == listb[j]):\n",
    "                    inx.append(lista[i])\n",
    "        for i in range(len(inx)):\n",
    "            lista.remove(inx[i])\n",
    "        return sorted(lista)\n",
    "                \n",
    "    elif(len(lista)<len(listb)):\n",
    "        for i in range(len(listb)):\n",
    "            for j in range(len(lista)):\n",
    "                if(listb[i] == lista[j]):\n",
    "                    inx.append(listb[i])\n",
    "        for i in range(len(inx)):\n",
    "            listb.remove(inx[i])\n",
    "        return sorted(listb)\n",
    "    \n",
    "for i in range(3):\n",
    "    lista = list(map(int, input().split()))\n",
    "    listb = list(map(int, input().split()))\n",
    "    print(\"교집합: \", list_intersection(lista, listb), end = \"\\n\")\n",
    "    print(\"차집합: \", list_difference(lista, listb), end = \"\\n\\n\")"
   ]
  },
  {
   "cell_type": "markdown",
   "id": "84f1c1c3",
   "metadata": {},
   "source": [
    "#### [4번문제 코드 설명]\n",
    "- 교집합의 경우, 먼저 inx와 new_list 두 개의 리스트를 새로 선언한다.\n",
    "- 그리고 이중 for 문을 통해 lista, listb를 비교하여 만약 같은 원소가 있을 경우 inx에 그 값을 담는다.\n",
    "- 다음 for문에서는 inx에 있는 값을 하나씩 count 하여 만약 해당 값이 new_list에 없을 경우(1보다 작을 경우), new_list에 해당 값을 추가한다. 그리고 new_list를 정렬하여 반환한다.\n",
    "- 차집합의 경우, 먼저 inx 리스트를 선언한다.\n",
    "- 만약 lista가 listb보다 크거나 같을 경우 lista - listb를 하고, lista가 listb보다 작을 경우 listb - lista를 하도록 if문과 이중 for문을 통해 설정한다.\n",
    "- 이중 for문을 통해 lista와 listb를 비교하며, 해당 값이 같을 경우 inx에 그 값을 추가한다.\n",
    "- 다음 for문에서 빼주어야하는 lista 또는 listb에 inx 값을 하나씩 빼준 후 정렬하여 반환한다."
   ]
  },
  {
   "cell_type": "markdown",
   "id": "79067902",
   "metadata": {},
   "source": []
  },
  {
   "cell_type": "markdown",
   "id": "b12e85e7",
   "metadata": {},
   "source": [
    "#### 5. 두 개의 양의 정수를 인자로 받아서 해당 범위안에 있는 소수(prime number)의 리스트를 출력하는 함수 print_primenumber(a, b)를 작성하시오.\n",
    "- 이미 구현된 모듈이나 라이브러리는 사용하지 않는다.\n",
    "- 함수의 반환(return)은 없으며 함수 내의 끝에서 .format()을 사용하여 다음과 같이 출력한다.\n",
    "    - print_primenumber(2, 10)\n",
    "        - 2 이상 10 이하 정수 중 소수 리스트: [2, 3, 5, 7]"
   ]
  },
  {
   "cell_type": "code",
   "execution_count": 5,
   "id": "0a4906ed",
   "metadata": {},
   "outputs": [
    {
     "name": "stdout",
     "output_type": "stream",
     "text": [
      "2 10\n",
      "2 이상 10 이하 정수 중 소수 리스트: [2, 3, 5, 7]\n"
     ]
    }
   ],
   "source": [
    "def print_primenumber(a, b):\n",
    "    prime = list()\n",
    "    for i in range(a, b + 1):\n",
    "        count = 0\n",
    "        for j in range(1, i + 1):\n",
    "            if(i % j == 0): count += 1\n",
    "        if(count == 2):\n",
    "            prime.append(i)\n",
    "    print(\"{} 이상 {} 이하 정수 중 소수 리스트: {}\".format(a, b, prime))\n",
    "\n",
    "a, b = map(int, input().split())\n",
    "print_primenumber(a, b)"
   ]
  },
  {
   "cell_type": "markdown",
   "id": "bb9a5e89",
   "metadata": {},
   "source": [
    "#### [5번문제 코드 설명]\n",
    "- 공백 하나를 두고 두 숫자를 입력받아 map을 이용해 정수로 바꾼 후, a, b에 각각 넣는다.\n",
    "- print_primenumber 함수 매개변수로 a, b를 보내어 소수의 리스트를 출력하는 함수를 만든다.\n",
    "- 먼저 소수를 담을 prime 리스트를 만들고, count를 0으로 초기화한 후 이중 for 문을 사용해 소수를 찾는다.\n",
    "- 이중 for 문을 통해 외부 for 문의 i와 내부 for 문의 j를 나눈 나머지 값이 0이면 count에 1을 더한다.\n",
    "- 내부 for 문이 끝난 후 숫자 i에 대하여 만약 count가 2일 경우 prime 리스트에 i를 추가한다.\n",
    "- 이중 for 문이 끝나면 format을 사용하여 결과를 출력한다."
   ]
  },
  {
   "cell_type": "markdown",
   "id": "0ec95626",
   "metadata": {},
   "source": []
  },
  {
   "cell_type": "markdown",
   "id": "2f697cc4",
   "metadata": {},
   "source": [
    "----"
   ]
  },
  {
   "cell_type": "markdown",
   "id": "824bcaa7",
   "metadata": {},
   "source": [
    "### [Incremental Project 문제]"
   ]
  },
  {
   "cell_type": "markdown",
   "id": "f54ece92",
   "metadata": {},
   "source": [
    "#### 웹 URL로 지정된 웹페이지를 문자열로 가져와 1) 모든 HTML 태그를 제외한 순수 텍스트 문자열만을 걸러내고, 2) 그 순수 텍스트 문자열 안에 존재하는 단어가 총 몇개인지 출력하는 프로그램을 작성하시오."
   ]
  },
  {
   "cell_type": "code",
   "execution_count": 3,
   "id": "5c10a301",
   "metadata": {
    "scrolled": true
   },
   "outputs": [
    {
     "name": "stdout",
     "output_type": "stream",
     "text": [
      "  403 Forbidden  Forbidden You don't have permission to access this resource. \n",
      "\n",
      "\n",
      "단어 개수: 11\n"
     ]
    }
   ],
   "source": [
    "import requests\n",
    "req = requests.get('http://cse.koreatech.ac.kr')\n",
    "source = req.text\n",
    "\n",
    "class Stack:\n",
    "    def __init__(self): #생성자\n",
    "        self.top = []\n",
    "    def __contains__(self,item): #스택에 해당 아이템이 있는지\n",
    "        return item in self.top\n",
    "    def __str__(self): #스택 반환\n",
    "        return str(self.top)\n",
    "    def __len__(self): #스택 길이 반환\n",
    "        return len(self.top)\n",
    "    def push(self, item): #추가\n",
    "        self.top.append(item)\n",
    "    def pop(self): #삭제 후 반환\n",
    "        if not self.isEmpty():\n",
    "            return self .top.pop(-1)\n",
    "        else:\n",
    "            print(\"Stack underflow\")\n",
    "            exit()\n",
    "    def peek(self): #삭제하지 않고 반환\n",
    "        if not self.isEmpty():\n",
    "            return self.top[-1]\n",
    "        else:\n",
    "            print(\"Stack overflow\")\n",
    "            exit()\n",
    "    def isEmpty(self): #비어있는지 확인\n",
    "        return len(self.top) == 0\n",
    "    def size(self): #스택 크기 반환\n",
    "        return len(self.top)\n",
    "    def clear(self): #초기화\n",
    "        self.top=[] \n",
    "    def display(self,i=0): #화면에 띄움\n",
    "        if i==len(self.top) : return\n",
    "        print(self.top[-(i+1)], end = '') \n",
    "        self.display(i+1)\n",
    "        \n",
    "def main(source):\n",
    "    a = Stack()\n",
    "    t = list()\n",
    "    i = 0\n",
    "    for ch in source:\n",
    "        a.push(ch)\n",
    "    x = ['(',')','\\t','\\n',' ','=']\n",
    "    while not a.isEmpty():\n",
    "        ch = a.pop()\n",
    "        if(a.isEmpty()): break\n",
    "        ch1 = a.peek()\n",
    "        if(ch == '<' and (ch1 not in x) and (ch2 not in x)):\n",
    "            while (len(a) != 1):\n",
    "                ch1 = a.pop()\n",
    "                if(ch1 == '>'):\n",
    "                    i += 1\n",
    "                    t.append(\" \")\n",
    "                    break\n",
    "                t.append(ch1)\n",
    "        ch2 = ch\n",
    "    t.reverse()\n",
    "    s = ''.join(t)\n",
    "    print(s)\n",
    "    print('\\n')\n",
    "    num = 0\n",
    "    for i in range(len(s)):\n",
    "        if(s[i] == \" \" and s[i-1] != \" \"):\n",
    "            num += 1\n",
    "    print(\"단어 개수:\", num)\n",
    "\n",
    "if __name__ == \"__main__\": main(source)"
   ]
  },
  {
   "cell_type": "markdown",
   "id": "71236318",
   "metadata": {},
   "source": [
    "#### [Incremental Project 문제 코드 설명]\n",
    "- 스택을 사용하기 위해 스택 클래스를 생성한다.\n",
    "- 웹페이지의 문자열을 가져와 main함수에 매개변수로 전달한다.\n",
    "- a 스택, t 리스트와 i = 0을 선언하고 for 문을 통해 a에 source에 있는 문자열을 Stack으로 push 즉, append한다.\n",
    "- 금지 목록 리스트 x를 생성하여 문자열을 담는다.\n",
    "- while문을 통해 a가 비어있지 않을 때 ch에 a의 마지막 값을 꺼내어 반환한다.\n",
    "- 만약 a가 비면 break하고, ch1에는 a.peek()를 담아 꺼내지 않고 반환한 값을 넣는다.\n",
    "- 만약 ch가 '<'이고 리스트 x 안에 ch1과 ch2가 없으면 a 길이가 1이 아닐때 ch1에 a의 마지막 값을 꺼내어 반환한다.\n",
    "- 그리고 만약 ch1의 값이 '>'dlaus i에 1을 더하고 t에 공백 1칸을 추가하여 단어 사이에 간격이 유지되도록 한 후 break한다.\n",
    "- 그리고 while 문 마지막에는 t에 ch1을 넣고, 해당 if문 밖과 가장 외부에 있는 while 문 안에, ch의 값을 ch2에 저장하고, while 문을 종료될 때까지 다시 반복한다.\n",
    "- 리스트 t의 내부 값들은 모두 역순으로 들어가 있으므로 t를 역순 정렬하고, join 함수를 통해 문자열로 바꾸어 s에 저장한다.\n",
    "- 순수 텍스트 문자열인 s를 화면에 출력하고, 다음 for 문을 통해 단어의 개수를 찾는다.\n",
    "- 먼저 for문 밖에 num = 0을 선언하고 if문을 통해 해당 값이 공백이고 그 앞의 값이 공백이 아닐때 num에 1을 더하고 for문이 종료되면 단어의 개수 num을 출력한다."
   ]
  },
  {
   "cell_type": "markdown",
   "id": "bfd88ee1",
   "metadata": {},
   "source": [
    "#### 과제 소감: 이번학기에 자바랑 파이썬을 병행하다보니 헷갈리는 부분이 좀 많았다. 그리고 파이썬이 제일 쉬운 언어라고 생각했는데 그것만은 또 아닌 것 같다. 문제가 어떠냐에 따라서 난이도가 달라지니까 파이썬이 많이 어렵게 느껴졌다. 특히 마지막 문제는 생각보다 너무 어려워서 하루종일 마지막 한 문제만 붙잡고 있었는데도 제대로 풀기가 힘들었다. 아직 코드가 많이 부족한 것 같아서 다음 과제까지 더 고민해볼 예정이다."
   ]
  }
 ],
 "metadata": {
  "kernelspec": {
   "display_name": "Python 3",
   "language": "python",
   "name": "python3"
  },
  "language_info": {
   "codemirror_mode": {
    "name": "ipython",
    "version": 3
   },
   "file_extension": ".py",
   "mimetype": "text/x-python",
   "name": "python",
   "nbconvert_exporter": "python",
   "pygments_lexer": "ipython3",
   "version": "3.8.8"
  }
 },
 "nbformat": 4,
 "nbformat_minor": 5
}
