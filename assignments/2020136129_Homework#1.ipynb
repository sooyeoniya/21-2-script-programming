{
 "cells": [
  {
   "cell_type": "markdown",
   "id": "79c51ce6",
   "metadata": {},
   "source": [
    "**[스크립트프로그래밍] 2020136129 최수연 Homework#1**"
   ]
  },
  {
   "cell_type": "markdown",
   "id": "07f9105d",
   "metadata": {},
   "source": [
    "#### 1. a=\"Hello Python\" 문자열을 Slicing과 연결 연산자 (+)를 사용하여 \"Python Hello\"로 변경하시오.\n",
    " - [주의] a 변수 자체에 \"Python Hello\" 문자열이 저장되어야 함."
   ]
  },
  {
   "cell_type": "code",
   "execution_count": 6,
   "id": "4632e89c",
   "metadata": {},
   "outputs": [
    {
     "name": "stdout",
     "output_type": "stream",
     "text": [
      "Python Hello\n"
     ]
    }
   ],
   "source": [
    "a = \"Hello Python\"\n",
    "x = a[0:5]\n",
    "y = a[6:12]\n",
    "a = y + ' ' + x\n",
    "print(a)"
   ]
  },
  {
   "cell_type": "markdown",
   "id": "17c32a35",
   "metadata": {},
   "source": [
    "#### [1번문제 코드 설명]\n",
    "- 문자열 a를 선언하고 새로운 변수 x, y에 슬라이싱을 사용하여 x에는 a의 Hello, y에는 a의 Python 문자열을 각각 저장한다.\n",
    "- 다음으로 변수 a에 연결 연산자(+)를 사용하여 Hello와 Python 순서가 바뀌도록 x, y를 뒤집어 저장한다.\n",
    "- 그리고 y + x 사이에 공백을 넣어 a에 \"Python Hello\" 문자열을 완성해 넣은 후 a를 출력한다."
   ]
  },
  {
   "cell_type": "markdown",
   "id": "e1feb158",
   "metadata": {},
   "source": []
  },
  {
   "cell_type": "markdown",
   "id": "3692ee30",
   "metadata": {},
   "source": [
    "#### 2. b=\"Hello Python World\" 문자열을 Slicing과 연결 연산자 (+)를 사용하여 \"World Python Hello\"로 변경하시오.\n",
    "- [주의] b 변수 자체에 \"World Python Hello\" 문자열이 저장되어야 함."
   ]
  },
  {
   "cell_type": "code",
   "execution_count": 7,
   "id": "500ce9e7",
   "metadata": {},
   "outputs": [
    {
     "name": "stdout",
     "output_type": "stream",
     "text": [
      "World Python Hello\n"
     ]
    }
   ],
   "source": [
    "b = \"Hello Python World\"\n",
    "x = b[0:5]\n",
    "y = b[6:12]\n",
    "z = b[13:18]\n",
    "b = z + ' ' + y + ' ' + x\n",
    "print(b)"
   ]
  },
  {
   "cell_type": "markdown",
   "id": "586aef3e",
   "metadata": {},
   "source": [
    "#### [2번문제 코드 설명]\n",
    "- 문자열 \"Hello Python World\"를 담은 변수 b를 선언한다.\n",
    "- 새로운 변수 x, y, z에 슬라이싱을 이용하여 문자열 b의 범위를 지정하여 각각 Hello, Python, World 문자열을 저장한다.\n",
    "- 변수 b에 z, y, x 순으로 다시 저장하고, 각 변수 사이에 공백을 추가하여 World Python Hello 가 저장되도록 한다."
   ]
  },
  {
   "cell_type": "markdown",
   "id": "bbc295bb",
   "metadata": {},
   "source": []
  },
  {
   "cell_type": "markdown",
   "id": "d6887ce5",
   "metadata": {},
   "source": [
    "#### 3. c=\"Hello\"를 \"olleH\"로 변경하시오.\n",
    "- [주의] c 변수 자체에 \"olleH\" 문자열이 저장되어야 함."
   ]
  },
  {
   "cell_type": "code",
   "execution_count": 8,
   "id": "3a46186b",
   "metadata": {},
   "outputs": [
    {
     "name": "stdout",
     "output_type": "stream",
     "text": [
      "olleH\n"
     ]
    }
   ],
   "source": [
    "c = \"Hello\"\n",
    "c = c[::-1]\n",
    "print(c)"
   ]
  },
  {
   "cell_type": "markdown",
   "id": "6f233f41",
   "metadata": {},
   "source": [
    "#### [3번문제 코드 설명]\n",
    "- 변수 c에 문자열 Hello을 저장한다.\n",
    "- 슬라이싱을 사용하여 처음부터 끝까지 -1, 즉 역순으로 변수 c에 다시 저장하여 출력한다."
   ]
  },
  {
   "cell_type": "markdown",
   "id": "82b8024f",
   "metadata": {},
   "source": []
  },
  {
   "cell_type": "markdown",
   "id": "bdb6093e",
   "metadata": {},
   "source": [
    "#### 4. s=\"python\"에 대해 다음 문제를 풀어보시오.\n",
    "- A. s[0], s[0][0], s[0][0][0]은 각각 어떤 값이 나오는지 확인하고 그 이유를 나름대로 설명해 보시오.\n",
    "- B. s[-100], s[100]은 값이 나오는지 에러가 나오는지 확인하고 그 결과에 대한 이유를 나름대로 설명해 보시오.\n",
    "- C. s[-100, 100]은 값이 나오는지 에러가 나오는지 확인하고 그 결과에 대한 이유를 나름대로 설명해 보시오.\n",
    "- D. s[1:-1]의 결과를 확인하고 그 결과에 대한 이유를 정확하게 설명하시오.\n",
    "- E. s[3:-3]의 결과를 확인하고 그 결과에 대한 이유를 정확하게 설명하시오."
   ]
  },
  {
   "cell_type": "code",
   "execution_count": 9,
   "id": "96155003",
   "metadata": {},
   "outputs": [
    {
     "name": "stdout",
     "output_type": "stream",
     "text": [
      "p p p\n"
     ]
    }
   ],
   "source": [
    "s=\"python\"\n",
    "print(s[0], s[0][0], s[0][0][0])"
   ]
  },
  {
   "cell_type": "markdown",
   "id": "5577f0ec",
   "metadata": {},
   "source": [
    "#### [4번문제 코드 설명]\n",
    "- A: 해당 s의 \"python\" 문자열은 1차원 배열에 해당하기 때문에 나머지 2차원, 3차원 배열을 사용하여 출력을 하여도 2차원, 3차원의 인덱스 0번째에 해당하는 값이 없어서 그냥 1차원의 인덱스 0번째 문자인 'p'만 출력이 된다."
   ]
  },
  {
   "cell_type": "code",
   "execution_count": 10,
   "id": "8c0b2ec1",
   "metadata": {},
   "outputs": [
    {
     "ename": "IndexError",
     "evalue": "string index out of range",
     "output_type": "error",
     "traceback": [
      "\u001b[1;31m---------------------------------------------------------------------------\u001b[0m",
      "\u001b[1;31mIndexError\u001b[0m                                Traceback (most recent call last)",
      "\u001b[1;32m<ipython-input-10-751fe7c0b95d>\u001b[0m in \u001b[0;36m<module>\u001b[1;34m\u001b[0m\n\u001b[1;32m----> 1\u001b[1;33m \u001b[0mprint\u001b[0m\u001b[1;33m(\u001b[0m\u001b[0ms\u001b[0m\u001b[1;33m[\u001b[0m\u001b[1;33m-\u001b[0m\u001b[1;36m100\u001b[0m\u001b[1;33m]\u001b[0m\u001b[1;33m,\u001b[0m \u001b[0ms\u001b[0m\u001b[1;33m[\u001b[0m\u001b[1;36m100\u001b[0m\u001b[1;33m]\u001b[0m\u001b[1;33m)\u001b[0m\u001b[1;33m\u001b[0m\u001b[1;33m\u001b[0m\u001b[0m\n\u001b[0m",
      "\u001b[1;31mIndexError\u001b[0m: string index out of range"
     ]
    }
   ],
   "source": [
    "print(s[-100], s[100])"
   ]
  },
  {
   "cell_type": "markdown",
   "id": "d01bd28e",
   "metadata": {},
   "source": [
    "#### [4번문제 코드 설명]\n",
    "- B: 문자열은 N이 문자열 길이라고 했을 때, 양수 인덱스는 0부터 N-1까지 설정되고, 음수 인덱스는 -1부터 -N의 역순으로 설정되기 때문에 인덱스 -100번째와 100번째의 문자열은 범위를 벗어나기 때문에 오류가 난다."
   ]
  },
  {
   "cell_type": "code",
   "execution_count": 11,
   "id": "141020cb",
   "metadata": {},
   "outputs": [
    {
     "ename": "TypeError",
     "evalue": "string indices must be integers",
     "output_type": "error",
     "traceback": [
      "\u001b[1;31m---------------------------------------------------------------------------\u001b[0m",
      "\u001b[1;31mTypeError\u001b[0m                                 Traceback (most recent call last)",
      "\u001b[1;32m<ipython-input-11-c209b42beee1>\u001b[0m in \u001b[0;36m<module>\u001b[1;34m\u001b[0m\n\u001b[1;32m----> 1\u001b[1;33m \u001b[0mprint\u001b[0m\u001b[1;33m(\u001b[0m\u001b[0ms\u001b[0m\u001b[1;33m[\u001b[0m\u001b[1;33m-\u001b[0m\u001b[1;36m100\u001b[0m\u001b[1;33m,\u001b[0m \u001b[1;36m100\u001b[0m\u001b[1;33m]\u001b[0m\u001b[1;33m)\u001b[0m\u001b[1;33m\u001b[0m\u001b[1;33m\u001b[0m\u001b[0m\n\u001b[0m",
      "\u001b[1;31mTypeError\u001b[0m: string indices must be integers"
     ]
    }
   ],
   "source": [
    "print(s[-100, 100])"
   ]
  },
  {
   "cell_type": "markdown",
   "id": "6452cc00",
   "metadata": {},
   "source": [
    "#### [4번문제 코드 설명]\n",
    "- C: 문자열s 뒤에 등호 없이 바로 대괄호 안에 콤마를 넣는 것은 사용할 수 없으며, 만약 콤마를 콜론으로 바꾸어 슬라이싱 기능을 사용한다고 쳐도 인덱스 번호가 위 문제 B 설명과 마찬가지로 해당 문자열의 범위를 벗어나기 때문에 오류가 난다."
   ]
  },
  {
   "cell_type": "code",
   "execution_count": 12,
   "id": "0ad9c7a4",
   "metadata": {},
   "outputs": [
    {
     "name": "stdout",
     "output_type": "stream",
     "text": [
      "ytho\n"
     ]
    }
   ],
   "source": [
    "print(s[1:-1])"
   ]
  },
  {
   "cell_type": "markdown",
   "id": "8f818f45",
   "metadata": {},
   "source": [
    "#### [4번문제 코드 설명]\n",
    "- D: 문자열 s에서 \"n\"의 인덱스 번호는 5이기도 하지만 -1이기도 하기 때문에, 해당 출력문은 문자열 s의 인덱스 1번부터 -1번째 전까지 출력하는 코드이므로 \"ytho\"가 출력이 되었다."
   ]
  },
  {
   "cell_type": "code",
   "execution_count": 13,
   "id": "36d8e22f",
   "metadata": {},
   "outputs": [
    {
     "name": "stdout",
     "output_type": "stream",
     "text": [
      "\n"
     ]
    }
   ],
   "source": [
    "print(s[3:-3])"
   ]
  },
  {
   "cell_type": "markdown",
   "id": "0962b684",
   "metadata": {},
   "source": [
    "#### [4번문제 코드 설명]\n",
    "- E: 문자열 s에서 인덱스 번호 3번째와 -3번째는 모두 \"h\"로 같은 문자를 나타낸다. 따라서 해당 출력문은 문자열 s의 인덱스 3번부터 -3번째 전까지 출력하는 코드인데 두 인덱스가 가리키는 문자가 같으므로 아무것도 출력이 되지 않는다."
   ]
  },
  {
   "cell_type": "markdown",
   "id": "14363020",
   "metadata": {},
   "source": []
  },
  {
   "cell_type": "markdown",
   "id": "07d2da17",
   "metadata": {},
   "source": [
    "#### 5. for문을 활용하여 1부터 100사이의 홀수를 출력하시오."
   ]
  },
  {
   "cell_type": "code",
   "execution_count": 14,
   "id": "01428e30",
   "metadata": {},
   "outputs": [
    {
     "name": "stdout",
     "output_type": "stream",
     "text": [
      "1 3 5 7 9 11 13 15 17 19 21 23 25 27 29 31 33 35 37 39 41 43 45 47 49 51 53 55 57 59 61 63 65 67 69 71 73 75 77 79 81 83 85 87 89 91 93 95 97 99 "
     ]
    }
   ],
   "source": [
    "for i in range(1, 101):\n",
    "    if(i%2 != 0): print(i, end = ' ')"
   ]
  },
  {
   "cell_type": "markdown",
   "id": "9c03b940",
   "metadata": {},
   "source": [
    "#### [5번문제 코드 설명]\n",
    "- for 문을 사용하여 i의 범위를 1~100으로 지정한다.\n",
    "- if 문을 사용하여 만약 i를 2로 나눈 나머지가 0이 아니면 i를 출력하도록 한다.\n",
    "- 이때 end = ' '를 사용하여 모든 숫자의 출력이 한줄로 출력되도록 한다."
   ]
  },
  {
   "cell_type": "markdown",
   "id": "14ff555d",
   "metadata": {},
   "source": []
  },
  {
   "cell_type": "markdown",
   "id": "0bfa6484",
   "metadata": {},
   "source": [
    "#### 6. while문을 활용하여 1부터 100사이의 짝수의 합을 계산하여 출력하시오."
   ]
  },
  {
   "cell_type": "code",
   "execution_count": 15,
   "id": "fe842578",
   "metadata": {},
   "outputs": [
    {
     "name": "stdout",
     "output_type": "stream",
     "text": [
      "2550\n"
     ]
    }
   ],
   "source": [
    "a = 1\n",
    "sum = 0\n",
    "while a < 101:\n",
    "    if (a%2 == 0): sum += a\n",
    "    a += 1\n",
    "print(sum)"
   ]
  },
  {
   "cell_type": "markdown",
   "id": "5517d2d3",
   "metadata": {},
   "source": [
    "#### [6번문제 코드 설명]\n",
    "- 먼저 변수 a를 1, sum을 0으로 초기화를 한다.\n",
    "- while문을 활용하여 a가 100까지일 때, 만약 a가 2로 나눈 나머지가 0이면 sum에 a값을 더한다.\n",
    "- 그리고 a를 1씩 증가시키며 해당 if문을 반복하고, a가 101일 때 while문을 나와 sum을 출력한다."
   ]
  },
  {
   "cell_type": "markdown",
   "id": "1b9e9632",
   "metadata": {},
   "source": []
  },
  {
   "cell_type": "markdown",
   "id": "8dbf57fb",
   "metadata": {},
   "source": [
    "#### 7. 사용자로 부터 임의의 정수를 입력받고, 해당 숫자를 역순으로 출력하는 프로그램을 작성하시오.\n",
    "- [실행 예]\n",
    " - 정수를 입력하세요: 3125\n",
    " - 숫자 역순은 5213 입니다."
   ]
  },
  {
   "cell_type": "code",
   "execution_count": 16,
   "id": "d286442f",
   "metadata": {},
   "outputs": [
    {
     "name": "stdout",
     "output_type": "stream",
     "text": [
      "정수를 입력하세요: 3125\n",
      "숫자의 역순은 5213 입니다.\n"
     ]
    }
   ],
   "source": [
    "def reverse(s): return s[::-1]\n",
    "s = input(\"정수를 입력하세요: \")\n",
    "result = int(reverse(s))\n",
    "print(\"숫자의 역순은 %d 입니다.\"%result)"
   ]
  },
  {
   "cell_type": "markdown",
   "id": "77069152",
   "metadata": {},
   "source": [
    "#### [7번문제 코드 설명]\n",
    "- 함수 reverse()를 생성하여 매개변수를 받으면 해당 매개변수를 슬라이싱을 사용해 역순으로 바꾸어 반환하도록 한다.\n",
    "- s를 사용자로부터 입력을 받고 reverse 함수를 사용하여 s의 값을 역순으로 바꾼다.\n",
    "- 바꾼 값을 int로 바꾸어 result에 넣고 result를 출력한다."
   ]
  },
  {
   "cell_type": "markdown",
   "id": "90855b7c",
   "metadata": {},
   "source": []
  },
  {
   "cell_type": "markdown",
   "id": "e3e0f1d8",
   "metadata": {},
   "source": [
    "#### 8. 사용자로부터 정수를 입력받아서 1부터 그 사이에 존재하는 소수 (Prime number)를 출력하는 파이썬 프로그램을 작성하시오."
   ]
  },
  {
   "cell_type": "code",
   "execution_count": 17,
   "id": "1422d944",
   "metadata": {},
   "outputs": [
    {
     "name": "stdout",
     "output_type": "stream",
     "text": [
      "정수를 입력하세요: 100\n",
      "2 3 5 7 11 13 17 19 23 29 31 37 41 43 47 53 59 61 67 71 73 79 83 89 97 "
     ]
    }
   ],
   "source": [
    "n = int(input(\"정수를 입력하세요: \"))\n",
    "for i in range(1, n + 1):\n",
    "    count = 0\n",
    "    for j in range(1, i + 1):\n",
    "        if(i % j == 0): count += 1\n",
    "    if(count == 2):\n",
    "        print(i, end = ' ')"
   ]
  },
  {
   "cell_type": "markdown",
   "id": "f535e238",
   "metadata": {},
   "source": [
    "#### [8번문제 코드 설명]\n",
    "- 정수를 입력받아 변수 n에 int로 바꾸어 넣는다.\n",
    "- for 문을 사용하여 i를 1부터 n까지 1씩 증가하며 반복한다.\n",
    "- 해당 for 문에서 count를 0으로 초기화하여 선언한다.\n",
    "- for 문 안에 1부터 i까지 1씩 증가하는 j에 대한 새로운 for 문을 만든다.\n",
    "- 내부의 for문 안에 if 문을 사용하여 i에 j를 나눈 나머지 값이 0이면 j는 i의 약수라는 뜻이므로 count에 1을 더한다.\n",
    "- 소수는 약수가 1과 자기 자신만 존재하므로 약수가 2이다.\n",
    "- 따라서 내부의 for 문이 종료되었을 때 만약 count가 2이면 약수가 2이고, 즉 현재 i가 소수이므로 해당 i를 출력한다.\n",
    "- end = ' ' 를 사용하여 외부의 for 문의 반복이 모두 끝나기 전까지 모든 소수들은 한 줄로 출력되도록 한다."
   ]
  },
  {
   "cell_type": "markdown",
   "id": "d88aeed1",
   "metadata": {},
   "source": []
  },
  {
   "cell_type": "markdown",
   "id": "91664165",
   "metadata": {},
   "source": [
    "#### 9. Kevin과 Stuart는 게임을 한다. 규칙은 아래와 같다.\n",
    "- 두 플레이어에게 같은 string, S, 가 주어진다.\n",
    "- 두 플레이어는 string S의 문자를 사용하여 substring을 만들어야 한다(중복 가능).\n",
    "- Stuart는 자음으로 시작하는 단어를 만들어야 한다.\n",
    "- Kevin은 모음으로 시작하는 단어를 만들어야 한다.\n",
    "- 게임은 두 플레이어가 만들 수 있는 모든 단어를 만들었을 때 끝난다.\n",
    "- 점수 계산 : substring 1개당 +1 점을 획득한다. (아래 그림 참고)."
   ]
  },
  {
   "cell_type": "markdown",
   "id": "e14d0eb9",
   "metadata": {},
   "source": [
    "#### 사용자로 부터 대문자로 이루어진 string S를 입력받고, 승자와 그의 점수를 출력하는 프로그램을 작성하시오.\n",
    "- [실행 예]\n",
    " - string S를 입력하세요: BANANA\n",
    " - 승자: Stuart 점수: 12"
   ]
  },
  {
   "cell_type": "code",
   "execution_count": 18,
   "id": "cbdf4082",
   "metadata": {},
   "outputs": [
    {
     "name": "stdout",
     "output_type": "stream",
     "text": [
      "string S를 입력하세요: BANANA\n",
      "승자: Stuart, 점수: 12\n"
     ]
    }
   ],
   "source": [
    "vowel = ['A', 'E', 'I', 'O', 'U']\n",
    "S = list(input(\"string S를 입력하세요: \")) # BANANA\n",
    "Stuart = S; Kevin = S\n",
    "score_S = 0; score_K = 0\n",
    "\n",
    "for i in range (len(Stuart)): # 0~5\n",
    "    for j in range (len(vowel)): # 0~4\n",
    "        if(Stuart[i] == vowel[j]): break\n",
    "        elif(Stuart[i] != vowel[j] and j == 4): score_S += (len(Stuart) - i)\n",
    "\n",
    "for i in range (len(Kevin)):\n",
    "    for k in range(len(vowel)):\n",
    "        if(Kevin[i] == vowel[k]): \n",
    "            score_K += (len(Kevin) - i)\n",
    "            break\n",
    "\n",
    "if(score_S > score_K): print(\"승자: %s, 점수: %d\" %('Stuart', score_S))\n",
    "elif(score_S < score_K): print(\"승자: %s, 점수: %d\" %('Kevin', score_K))"
   ]
  },
  {
   "cell_type": "markdown",
   "id": "bb7808ee",
   "metadata": {},
   "source": [
    "#### [9번문제 코드 설명]\n",
    "- 모음을 식별하기 위해 모음 리스트 vowel을 만든다.\n",
    "- 사용자로부터 string S를 입력받아 리스트로 바꾼다.\n",
    "- Stuart와 Kevin에 각각 S를 넣는다.\n",
    "- 점수를 매기기 위해 Stuart와 Kevin에 대한 스코어 점수 변수를 선언하고 0으로 초기화 한다.\n",
    "- 이중 for문을 사용하여 Stuart와 Kevin 각각 만든다.\n",
    "- Stuart의 경우, 외부 for 문의 범위 i를 len(Stuart)전까지, 내부 for 문의 범위 j를 len(vowel)전까지로 돌린다.\n",
    "- 만약 Stuart[i]와 vowel[j]가 같으면 break, 다르면서 j가 4일 때, Stuart 스코어에 (len(Stuart) - i)만큼 더한다.\n",
    "- Kevin의 경우, 외부 for 문의 범위 i를 len(Kevin)전까지, 내부 for 문의 범위 k를 len(vowel)전까지로 돌린다.\n",
    "- 만약 Kevin[i]과 vowel[k]가 같을 경우 Kevin 스코어에 (len(Kevin) - i)만큼 더하고 break 한다.\\\n",
    "- 마지막으로 스코어가 더 큰 사람을 승자로 출력하고, 승자의 점수를 출력한다."
   ]
  },
  {
   "cell_type": "markdown",
   "id": "7b97f17c",
   "metadata": {},
   "source": []
  },
  {
   "cell_type": "markdown",
   "id": "aecf0da7",
   "metadata": {},
   "source": [
    "#### 10. 알파벳 소문자만으로 이루어진 string, S, 가 주어지고 아래 2가지 연산을 수행할 수 있다.\n",
    "- 추가: string S의 끝에 알파벳 소문자 하나를 추가한다.\n",
    "- 삭제 : string S의 마지막 문자 하나를 삭제한다. empty string에서 삭제 연산을 수행한 결과는 empty string이다."
   ]
  },
  {
   "cell_type": "markdown",
   "id": "ed426957",
   "metadata": {},
   "source": [
    "#### 두 개의 string, s와 t, 그리고 정수 k가 주어질 때, 정확히 k번의 연산을 통해 s를 t로 바꿀 수 있는지 판단하는 함수를 작성하시오."
   ]
  },
  {
   "cell_type": "code",
   "execution_count": 19,
   "id": "1909366e",
   "metadata": {},
   "outputs": [
    {
     "name": "stdout",
     "output_type": "stream",
     "text": [
      "s 입력: hackerhappy\n",
      "t 입력: hackerrank\n",
      "k 입력: 9\n",
      "1. s = 'hackerhappy'    t = 'hackerrank'    k = 9    => 'Yes'\n",
      "\n",
      "s 입력: aba\n",
      "t 입력: aba\n",
      "k 입력: 7\n",
      "2. s = 'aba'    t = 'aba'    k = 7    => 'Yes'\n",
      "\n",
      "s 입력: ashley\n",
      "t 입력: ash\n",
      "k 입력: 2\n",
      "3. s = 'ashley'    t = 'ash'    k = 2    => 'No'\n",
      "\n"
     ]
    }
   ],
   "source": [
    "def appendDelete(s, t, k):\n",
    "    s = list(s); t = list(t)\n",
    "    num = 0\n",
    "    if(len(s) >= len(t)): # hackerhappy, ashley, aba\n",
    "        for i in range(len(t)):\n",
    "            if(s[i] == t[i]): continue\n",
    "            elif(s[i] != t[i]):\n",
    "                for j in range(len(s) - i): # 0, 1, 2, 3, 4 반복하여 마지막 리스트 값 삭제\n",
    "                    del s[-1]\n",
    "                k -= len(s) - i # 11 - 6 = 5   # k - 5 = 9 - 5 = 4\n",
    "                num = i  # 6\n",
    "                for j in range(num, len(t)): # 6, 7, 8, 9 (10번째 전까지)\n",
    "                    s.append(t[j])\n",
    "                k -= len(t) - num\n",
    "                break\n",
    "        if(s != t and (len(s) > len(t))):\n",
    "            for j in range(len(t), len(s)):\n",
    "                del s[-1]\n",
    "                k -= len(s) - len(t)\n",
    "                \n",
    "    elif(len(s) < len(t)):\n",
    "        for i in range(len(s)):\n",
    "            if(s[i] == t[i]): continue\n",
    "            elif(s[i] != t[i]):\n",
    "                for j in range(len(s) - i):\n",
    "                    del s[-1]\n",
    "                k -= len(s) - i\n",
    "                num = i \n",
    "                for j in range(num, len(t)):\n",
    "                    s.append(t[j])\n",
    "                    k -= len(t) - num\n",
    "                break\n",
    "        if(s != t and (len(s) < len(t))):\n",
    "            for j in range(len(s), len(t)):\n",
    "                s.append(t[j])\n",
    "                k -= len(t) - len(s)\n",
    "\n",
    "    if(k >= 0): return 'Yes'\n",
    "    elif(k < 0): return 'No'\n",
    "\n",
    "for i in range(1, 4):\n",
    "    s = input(\"s 입력: \")\n",
    "    t = input(\"t 입력: \")\n",
    "    k = int(input(\"k 입력: \"))\n",
    "    result = appendDelete(s, t, k)\n",
    "    print(\"%d. s = '%s'    t = '%s'    k = %d    => '%s'\\n\" %(i, s, t, k, result))"
   ]
  },
  {
   "cell_type": "markdown",
   "id": "247a4fa0",
   "metadata": {},
   "source": [
    "#### [10번문제 코드 설명]\n",
    "- 먼저 사용자 입력을 통해 s, t, k를 입력받고, appendDelete()함수의 매개변수로 모두 넘긴다.\n",
    "- 해당 함수에서 s와 t의 타입을 모두 list로 변환한다.\n",
    "- num을 0으로 초기화하여 임시로 저장해야되는 값을 넣기 위한 변수 하나를 생성한다.\n",
    "- s의 길이가 t의 길이보다 길거나 같을 경우, (t의 길이 -1)만큼 for문을 반복하여 s와 t의 각 인덱스 번호가 같은지 다른지 검사한다.\n",
    "- 만약 s와 t의 각 인덱스 번호가 같으면 continue하여 for문을 계속 반복하고, 만약 다른 값이 나올 경우 s의 길이에서 해당 for문의 i를 뺀 값의 전까지 for문을 내부에 생성하여 del를 사용하여 s의 마지막 리스트 값을 삭제한다.\n",
    "- 그리고 삭제한 만큼의 값을 k에 빼주고, 해당 for 문을 빠져나올 때 i의 값이 또 사용되므로 i 값을 num에 저장한다.\n",
    "- 다시 for 문을 생성하여 이번에는 j의 범위를 num부터 t의 길이 바로 전까지 돌려 s의 리스트에 인덱스 번호 j에 해당하는 t의 리스트 값을 뒤에 추가하도록 한다.\n",
    "- 그리고 추가한 만큼의 값을 k에 빼주고 해당 for문과 if문을 빠져나온다.\n",
    "- 그 후 appendDelete()함수 마지막에 있는 if 문을 통해 k가 만약 0보다 크거나 같다면 'Yes', k가 0보다 작으면 'No'를 반환하도록 한다.\n",
    "- t의 길이가 s의 길이보다 길 경우, 위 반복문과 비슷한 형태로 진행되는데, 한가지 다른 점은 for 문의 범위에서 t의 길이와 s의 길이가 서로 바뀐다는 점이다.\n",
    "- 만약 s의 길이와 t의 길이가 다른데 s의 길이나 t의 길이만큼의 값이 서로 같은 경우(e.g. s = 'ashley', t = 'ash'), 첫 번째 if문의 for문에서 모두 continue로 하여 for문을 빠져나오면, 다음 if문에서 s와 t가 같지 않은데 s와 t의 길이가 다른 경우일 때 사용하는 코드가 있다.\n",
    "- 해당 코드에서 만약 s의 길이가 t의 길이보다 길면, for문을 t의 길이에서 s의 길이 전까지 돌려 s의 마지막 리스트 값들을 삭제해주고, 삭제된 만큼을 k에서 빼준다.\n",
    "- 만약 t의 길이가 s의 길이보다 길면, for문을 s의 길이에서 t의 길이 전까지 j번 돌려 t의 리스트의 인덱스 번호가 j인 값들을 s 리스트의 마지막에 하나씩 추가해주고, 추가한 만큼을 k에서 빼준다."
   ]
  },
  {
   "cell_type": "markdown",
   "id": "6cc3f791",
   "metadata": {},
   "source": []
  },
  {
   "cell_type": "markdown",
   "id": "38c1858e",
   "metadata": {},
   "source": [
    "#### 강의 소감: 실시간 강의는 교수님께서 계속 학생들에게 질문하면서 수업하는 방식 덕분에 수업 집중이 잘된다. 온라인 강의는 수업은 이해가 아주 잘 되는데 한 가지 아쉬운 점이 있다면 온라인 강의의 배속이 없다는 점이다.\n",
    "#### 과제 소감: 주피터 노트북이 생각보다 적응하기가 좀 어려운 것 같아서 헤맨 부분도 많았지만 오히려 과제 제출할 땐 깔끔하고 좋은 것 같다. 파이썬을 이번학기 처음 배우다보니 아직 C++에 적응되어 있어서 코드를 짜는데 어색하기도한 부분도 많았다. 그리고 이번 과제 9번 10번이 다른 문제에 비해 난이도가 있어서 생각보다 더 어려웠다. 앞으로 더욱 열심히 공부해서 파이썬 코드를 잘 짜고 싶다."
   ]
  }
 ],
 "metadata": {
  "kernelspec": {
   "display_name": "Python 3",
   "language": "python",
   "name": "python3"
  },
  "language_info": {
   "codemirror_mode": {
    "name": "ipython",
    "version": 3
   },
   "file_extension": ".py",
   "mimetype": "text/x-python",
   "name": "python",
   "nbconvert_exporter": "python",
   "pygments_lexer": "ipython3",
   "version": "3.8.8"
  }
 },
 "nbformat": 4,
 "nbformat_minor": 5
}
