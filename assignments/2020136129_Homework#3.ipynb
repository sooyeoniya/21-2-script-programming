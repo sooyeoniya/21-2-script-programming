{
 "cells": [
  {
   "cell_type": "markdown",
   "id": "211871d9",
   "metadata": {},
   "source": [
    "**[스크립트프로그래밍] 2020136129 최수연 Homework#3**"
   ]
  },
  {
   "cell_type": "markdown",
   "id": "7c240ae8",
   "metadata": {},
   "source": [
    "#### 1. L=[1, 2, 3, 4, 5]일 때 다음 각 문장을 수행한 후의 결과를 보고 납득할 만한 이유를 설명하시오."
   ]
  },
  {
   "cell_type": "code",
   "execution_count": 34,
   "id": "0fa70668",
   "metadata": {
    "scrolled": true
   },
   "outputs": [
    {
     "name": "stdout",
     "output_type": "stream",
     "text": [
      "[1, 100, 4, 5]\n"
     ]
    }
   ],
   "source": [
    "L = [1, 2, 3, 4, 5]\n",
    "L[1:3] = [100]\n",
    "print(L)"
   ]
  },
  {
   "cell_type": "markdown",
   "id": "af357e17",
   "metadata": {},
   "source": [
    "- 1) L의 인덱스 1부터 2까지를 100으로 대체한다."
   ]
  },
  {
   "cell_type": "code",
   "execution_count": 22,
   "id": "b5305b18",
   "metadata": {},
   "outputs": [
    {
     "name": "stdout",
     "output_type": "stream",
     "text": [
      "[1, 100, 4, 5]\n"
     ]
    }
   ],
   "source": [
    "L = [1, 2, 3, 4, 5]\n",
    "L[1:3] = [(100)]\n",
    "print(L)"
   ]
  },
  {
   "cell_type": "markdown",
   "id": "c31cef24",
   "metadata": {},
   "source": [
    "- 2) L의 인덱스 1부터 2까지를 100으로 대체한다. 이때 괄호는 그냥 수식을 나타내는 의미없는 괄호이다."
   ]
  },
  {
   "cell_type": "code",
   "execution_count": 35,
   "id": "32f2b0cc",
   "metadata": {},
   "outputs": [
    {
     "ename": "TypeError",
     "evalue": "can only assign an iterable",
     "output_type": "error",
     "traceback": [
      "\u001b[1;31m---------------------------------------------------------------------------\u001b[0m",
      "\u001b[1;31mTypeError\u001b[0m                                 Traceback (most recent call last)",
      "\u001b[1;32m<ipython-input-35-67150f8e927d>\u001b[0m in \u001b[0;36m<module>\u001b[1;34m\u001b[0m\n\u001b[0;32m      1\u001b[0m \u001b[0mL\u001b[0m \u001b[1;33m=\u001b[0m \u001b[1;33m[\u001b[0m\u001b[1;36m1\u001b[0m\u001b[1;33m,\u001b[0m \u001b[1;36m2\u001b[0m\u001b[1;33m,\u001b[0m \u001b[1;36m3\u001b[0m\u001b[1;33m,\u001b[0m \u001b[1;36m4\u001b[0m\u001b[1;33m,\u001b[0m \u001b[1;36m5\u001b[0m\u001b[1;33m]\u001b[0m\u001b[1;33m\u001b[0m\u001b[1;33m\u001b[0m\u001b[0m\n\u001b[1;32m----> 2\u001b[1;33m \u001b[0mL\u001b[0m\u001b[1;33m[\u001b[0m\u001b[1;36m1\u001b[0m\u001b[1;33m:\u001b[0m\u001b[1;36m3\u001b[0m\u001b[1;33m]\u001b[0m \u001b[1;33m=\u001b[0m \u001b[1;36m100\u001b[0m\u001b[1;33m\u001b[0m\u001b[1;33m\u001b[0m\u001b[0m\n\u001b[0m\u001b[0;32m      3\u001b[0m \u001b[0mprint\u001b[0m\u001b[1;33m(\u001b[0m\u001b[0mL\u001b[0m\u001b[1;33m)\u001b[0m\u001b[1;33m\u001b[0m\u001b[1;33m\u001b[0m\u001b[0m\n",
      "\u001b[1;31mTypeError\u001b[0m: can only assign an iterable"
     ]
    }
   ],
   "source": [
    "L = [1, 2, 3, 4, 5]\n",
    "L[1:3] = 100\n",
    "print(L)"
   ]
  },
  {
   "cell_type": "markdown",
   "id": "f8a8b067",
   "metadata": {},
   "source": [
    "- 3) 100은 리스트가 아니라 L과 타입이 달라서 오류남"
   ]
  },
  {
   "cell_type": "code",
   "execution_count": 30,
   "id": "967c3bd1",
   "metadata": {},
   "outputs": [
    {
     "ename": "TypeError",
     "evalue": "can only assign an iterable",
     "output_type": "error",
     "traceback": [
      "\u001b[1;31m---------------------------------------------------------------------------\u001b[0m",
      "\u001b[1;31mTypeError\u001b[0m                                 Traceback (most recent call last)",
      "\u001b[1;32m<ipython-input-30-8820e5344e34>\u001b[0m in \u001b[0;36m<module>\u001b[1;34m\u001b[0m\n\u001b[0;32m      1\u001b[0m \u001b[0mL\u001b[0m \u001b[1;33m=\u001b[0m \u001b[1;33m[\u001b[0m\u001b[1;36m1\u001b[0m\u001b[1;33m,\u001b[0m \u001b[1;36m2\u001b[0m\u001b[1;33m,\u001b[0m \u001b[1;36m3\u001b[0m\u001b[1;33m,\u001b[0m \u001b[1;36m4\u001b[0m\u001b[1;33m,\u001b[0m \u001b[1;36m5\u001b[0m\u001b[1;33m]\u001b[0m\u001b[1;33m\u001b[0m\u001b[1;33m\u001b[0m\u001b[0m\n\u001b[1;32m----> 2\u001b[1;33m \u001b[0mL\u001b[0m\u001b[1;33m[\u001b[0m\u001b[1;36m1\u001b[0m\u001b[1;33m:\u001b[0m\u001b[1;36m3\u001b[0m\u001b[1;33m]\u001b[0m \u001b[1;33m=\u001b[0m \u001b[1;33m(\u001b[0m\u001b[1;36m100\u001b[0m\u001b[1;33m)\u001b[0m\u001b[1;33m\u001b[0m\u001b[1;33m\u001b[0m\u001b[0m\n\u001b[0m\u001b[0;32m      3\u001b[0m \u001b[0mprint\u001b[0m\u001b[1;33m(\u001b[0m\u001b[0mL\u001b[0m\u001b[1;33m)\u001b[0m\u001b[1;33m\u001b[0m\u001b[1;33m\u001b[0m\u001b[0m\n",
      "\u001b[1;31mTypeError\u001b[0m: can only assign an iterable"
     ]
    }
   ],
   "source": [
    "L = [1, 2, 3, 4, 5]\n",
    "L[1:3] = (100)\n",
    "print(L)"
   ]
  },
  {
   "cell_type": "markdown",
   "id": "7da5bae4",
   "metadata": {},
   "source": [
    "- 4) 100은 리스트가 아니라 L과 타입이 달라서 오류남, 이때 괄호는 그냥 수식을 나타내는 의미없는 괄호임"
   ]
  },
  {
   "cell_type": "code",
   "execution_count": 25,
   "id": "e22848f0",
   "metadata": {},
   "outputs": [
    {
     "name": "stdout",
     "output_type": "stream",
     "text": [
      "[1, 100, 101, 102, 4, 5]\n"
     ]
    }
   ],
   "source": [
    "L = [1, 2, 3, 4, 5]\n",
    "L[1:3] = (100, 101, 102)\n",
    "print(L)"
   ]
  },
  {
   "cell_type": "markdown",
   "id": "30fca865",
   "metadata": {},
   "source": [
    "- 5) L의 인덱스 1부터 2까지를 100, 101, 102로 대체한다."
   ]
  },
  {
   "cell_type": "code",
   "execution_count": 102,
   "id": "950d2c10",
   "metadata": {},
   "outputs": [
    {
     "name": "stdout",
     "output_type": "stream",
     "text": [
      "[1, 100, 101, 102, 4, 5]\n"
     ]
    }
   ],
   "source": [
    "L = [1, 2, 3, 4, 5]\n",
    "L[1:3] = [100, 101, 102]\n",
    "print(L)"
   ]
  },
  {
   "cell_type": "markdown",
   "id": "0a070828",
   "metadata": {},
   "source": [
    "- 6) L의 인덱스 1부터 2까지를 100, 101, 102로 대체한다."
   ]
  },
  {
   "cell_type": "code",
   "execution_count": 36,
   "id": "09ed9e01",
   "metadata": {},
   "outputs": [
    {
     "name": "stdout",
     "output_type": "stream",
     "text": [
      "[1, (100, 101, 102), 4, 5]\n"
     ]
    }
   ],
   "source": [
    "L = [1, 2, 3, 4, 5]\n",
    "L[1:3] = [(100, 101, 102)]\n",
    "print(L)"
   ]
  },
  {
   "cell_type": "markdown",
   "id": "0f557e5e",
   "metadata": {},
   "source": [
    "- 7) L의 인덱스 1부터 2까지를 튜플 (100, 101, 102)로 대체한다."
   ]
  },
  {
   "cell_type": "code",
   "execution_count": 28,
   "id": "4fd2b3a8",
   "metadata": {},
   "outputs": [
    {
     "name": "stdout",
     "output_type": "stream",
     "text": [
      "[1, [100, 101, 102], 4, 5]\n"
     ]
    }
   ],
   "source": [
    "L = [1, 2, 3, 4, 5]\n",
    "L[1:3] = [[100, 101, 102]]\n",
    "print(L)"
   ]
  },
  {
   "cell_type": "markdown",
   "id": "bf30d291",
   "metadata": {},
   "source": [
    "- 8) L의 인덱스 1부터 2까지를 리스트 [100, 101, 102]로 대체한다."
   ]
  },
  {
   "cell_type": "markdown",
   "id": "15a0748d",
   "metadata": {},
   "source": []
  },
  {
   "cell_type": "markdown",
   "id": "88ff48a2",
   "metadata": {},
   "source": [
    "#### 2. 문자열 S = 'Hello World and Python'에 대해 다음 요구사항에 대한 Python 코드를 제시하시오.\n",
    "- 1) 단어의 순서가 역순으로 되어진 문자열 ('Python and World Hello')을 만들고\n",
    "- 2) 1)의 결과 문자열에 대해 메소드 split과 join을 이용하여 공백을 모두 없엔 문자열 'PythonandWorldHello'을 만드시오."
   ]
  },
  {
   "cell_type": "code",
   "execution_count": 69,
   "id": "37019cf9",
   "metadata": {},
   "outputs": [
    {
     "name": "stdout",
     "output_type": "stream",
     "text": [
      "PythonandWorldHello\n"
     ]
    }
   ],
   "source": [
    "S = 'Hello World and Python'\n",
    "L = S.split(' ')\n",
    "L.reverse()\n",
    "S = ''.join(L)\n",
    "print(S)"
   ]
  },
  {
   "cell_type": "markdown",
   "id": "ba72c615",
   "metadata": {},
   "source": [
    "#### [2번문제 코드 설명]\n",
    "- 문자열 S를 공백을 기준으로 단어를 나누어 리스트 L에 저장한다.\n",
    "- 리스트 L을 역순으로 뒤집은 후, 다시 join을 통해 공백 없이 붙여 문자열로 만들고 S에 넣어 출력한다."
   ]
  },
  {
   "cell_type": "markdown",
   "id": "920c383d",
   "metadata": {},
   "source": []
  },
  {
   "cell_type": "markdown",
   "id": "0af32fce",
   "metadata": {},
   "source": [
    "#### 3. 다음 코드를 보고 물음에 답하시오."
   ]
  },
  {
   "cell_type": "code",
   "execution_count": 50,
   "id": "64dcd4c6",
   "metadata": {},
   "outputs": [
    {
     "name": "stdout",
     "output_type": "stream",
     "text": [
      "[1, 2, 3, 1, 2, 3, 1, 2, 3]\n",
      "[[1, 2, 3], [1, 2, 3], [1, 2, 3]]\n"
     ]
    }
   ],
   "source": [
    "a = [1, 2, 3]\n",
    "b = a * 3\n",
    "c = [a] * 3\n",
    "print(b)\n",
    "print(c)"
   ]
  },
  {
   "cell_type": "markdown",
   "id": "973f4096",
   "metadata": {},
   "source": [
    "- 1) 위 코드를 수행한 이후 다음 코드를 수행한 후 b와 c의 내용을 확인하시오."
   ]
  },
  {
   "cell_type": "code",
   "execution_count": 52,
   "id": "28a4fc03",
   "metadata": {},
   "outputs": [
    {
     "name": "stdout",
     "output_type": "stream",
     "text": [
      "[1, 2, 3, 1, 2, 3, 1, 2, 3]\n",
      "[[0, 2, 3], [0, 2, 3], [0, 2, 3]]\n"
     ]
    }
   ],
   "source": [
    "a[0]=0\n",
    "print(b)\n",
    "print(c)"
   ]
  },
  {
   "cell_type": "markdown",
   "id": "3347e135",
   "metadata": {},
   "source": [
    "- 2) b와 c 객체의 차이는 무엇인가?"
   ]
  },
  {
   "cell_type": "markdown",
   "id": "8e432cbb",
   "metadata": {},
   "source": [
    "#### [3번문제 코드 설명]\n",
    "- b는 리스트 a에 정수 3을 곱하여 리스트를 반복하여 새로운 리스트를 만듦\n",
    "- c는 리스트 a 자체를 할당하여 3번 곱한 것이므로 새로운 리스트 c안에 리스트 a 자체가 3번 들어감"
   ]
  },
  {
   "cell_type": "markdown",
   "id": "c398a13c",
   "metadata": {},
   "source": []
  },
  {
   "cell_type": "markdown",
   "id": "47460ac2",
   "metadata": {},
   "source": [
    "#### 4. 다음 문자열을 ':'을 기준으로 분리하여 리스트로 만들고 각 문자열의 좌우 공백을 제거하시오 (즉, 문자열 S에서 l을 만들어라)"
   ]
  },
  {
   "cell_type": "code",
   "execution_count": 4,
   "id": "7924ed12",
   "metadata": {},
   "outputs": [],
   "source": [
    "s = '  first star   :   second star   :    third star  '\n",
    "l = ['first star', 'second star', 'third star']"
   ]
  },
  {
   "cell_type": "markdown",
   "id": "3e4043e7",
   "metadata": {},
   "source": [
    "- 1) for ~ in 문을 이용한 코드를 작성하시오.\n",
    "- 2) 리스트 내포(list comprehension)를 이용한 코드를 작성하시오."
   ]
  },
  {
   "cell_type": "code",
   "execution_count": 15,
   "id": "7f86e715",
   "metadata": {},
   "outputs": [
    {
     "name": "stdout",
     "output_type": "stream",
     "text": [
      "['first star', 'second star', 'third star']\n"
     ]
    }
   ],
   "source": [
    "k = s.split(':')\n",
    "a = [i for i in range(len(k))]\n",
    "for i in a:\n",
    "    n = []\n",
    "    n = k[i]\n",
    "    u = ''.join(n)\n",
    "    u = u.strip()\n",
    "    k[i] = u\n",
    "print(k)"
   ]
  },
  {
   "cell_type": "markdown",
   "id": "4d0823d1",
   "metadata": {},
   "source": [
    "#### [4번문제 코드 설명]\n",
    "- k에 문자열 s를 구분자 ':'로 나누어 리스트에 하나씩 단어를 저장한다.\n",
    "- 리스트 내포를 사용하여 a를 정의하고 a를 사용한 for in문을 사용한다.\n",
    "- 리스트 n을 정의하고 n에 리스트 k의 인덱스 i일때의 해당 값을 넣는다.\n",
    "- u에 해당 n값을 join을 사용하여 문자열로 바꾼 후, strip을 사용해 좌우 공백을 제거한다.\n",
    "- 그리고 다시 리스트 k의 인덱스 i일때의 해당 값에 넣는다."
   ]
  },
  {
   "cell_type": "markdown",
   "id": "c6db1971",
   "metadata": {},
   "source": []
  },
  {
   "cell_type": "markdown",
   "id": "b888720a",
   "metadata": {},
   "source": [
    "#### 5. 다음과 같이 0보다 큰 정수 리스트 변수 list를 인자로 받는 함수 addall(list)와 addallodd(list)를 for ~ in 리터널과 리스트 내포 방식으로 각각 제시하시오."
   ]
  },
  {
   "cell_type": "markdown",
   "id": "d422b83b",
   "metadata": {},
   "source": [
    "- 1) addall(list) 함수 (리스트 내의 모든 정수를 더하는 함수로서 해답으로는 for ~ in 리터럴과 리스트 내포 방식으로 각각 제시하시오.)"
   ]
  },
  {
   "cell_type": "code",
   "execution_count": 71,
   "id": "7c3c371b",
   "metadata": {},
   "outputs": [
    {
     "name": "stdout",
     "output_type": "stream",
     "text": [
      "1 1 45 45 "
     ]
    }
   ],
   "source": [
    "def addall_1(list):   # 리스트 내 모든 정수 더하는 함수, for ~ in 리터럴\n",
    "    sum = 0\n",
    "    for i in range(len(list)):\n",
    "        sum += list[i]\n",
    "    print(sum, end = ' ')\n",
    "\n",
    "def addall_2(list):   # 리스트 내 모든 정수 더하는 함수, 리스트 내포\n",
    "    print(sum(list[i] for i in range(len(list))), end = ' ')\n",
    "addall_1([1])\n",
    "addall_2([1])\n",
    "addall_1([1, 2, 3, 4, 5, 6, 7, 8, 9])\n",
    "addall_2([1, 2, 3, 4, 5, 6, 7, 8, 9])"
   ]
  },
  {
   "cell_type": "markdown",
   "id": "6e08823c",
   "metadata": {},
   "source": [
    "- 2) addallodd(list) 함수 (리스트내의 모든 홀수를 더하는 함수로서 해답으로는 for ~ in 리터럴과 리스트 내포 방식으로 각각 제시하시오.)"
   ]
  },
  {
   "cell_type": "code",
   "execution_count": 72,
   "id": "e7af06b4",
   "metadata": {},
   "outputs": [
    {
     "name": "stdout",
     "output_type": "stream",
     "text": [
      "1 1 25 25 "
     ]
    }
   ],
   "source": [
    "def addallodd_1(list):   # 리스트 내 모든 홀수 더하는 함수, for ~ in 리터럴\n",
    "    sum = 0\n",
    "    for i in range(len(list)):\n",
    "        if i % 2 == 0:\n",
    "            sum += list[i]\n",
    "    print(sum, end = ' ')\n",
    "\n",
    "def addallodd_2(list):   # 리스트 내 모든 홀수 더하는 함수, 리스트 내포\n",
    "    print(sum(list[i] for i in range(len(list)) if i % 2 == 0), end = ' ')\n",
    "addallodd_1([1])\n",
    "addallodd_2([1])\n",
    "addallodd_1([1, 2, 3, 4, 5, 6, 7, 8, 9])\n",
    "addallodd_2([1, 2, 3, 4, 5, 6, 7, 8, 9])"
   ]
  },
  {
   "cell_type": "markdown",
   "id": "d33082b5",
   "metadata": {},
   "source": [
    "#### [5번문제 코드 설명]\n",
    "- 리스트 내 모든 정수 더하는 함수, for ~ in 리터럴\n",
    "    - 본 함수는 sum을 초기화하고 for문에 리스트 값을 하나씩 sum에 더하는 함수\n",
    "- 리스트 내 모든 정수 더하는 함수, 리스트 내포\n",
    "    - 본 함수는 리스트 내포를 사용하여 리스트 해당 값을 하나씩 내장함수 sum을 사용해 더하는 함수\n",
    "- 리스트 내 모든 홀수 더하는 함수, for ~ in 리터럴\n",
    "    - 본 함수는 sum을 초기화하고 for문 안에 if문을 통해 해당 값이 홀수일 경우 sum에 더하는 함수\n",
    "- 리스트 내 모든 홀수 더하는 함수, 리스트 내포\n",
    "    - 본 함수는 리스트 내포를 사용하여 for문과 if문을 사용해 홀수 값을 찾고 그 값을 내장함수 sum을 사용하여 더하는 함수"
   ]
  },
  {
   "cell_type": "markdown",
   "id": "a687728a",
   "metadata": {},
   "source": []
  },
  {
   "cell_type": "markdown",
   "id": "9cc683b6",
   "metadata": {},
   "source": [
    "#### 6. 다음 코드를 보고 물음에 답하시오."
   ]
  },
  {
   "cell_type": "code",
   "execution_count": 78,
   "id": "6caa4996",
   "metadata": {},
   "outputs": [
    {
     "name": "stdout",
     "output_type": "stream",
     "text": [
      "{'low': [1, 2, 3], 'high': [4, 5, 6]}\n",
      "{'low': [1, 2, 3], 'high': [4, 5, 6]}\n",
      "{'low': [1, 2, 3], 'high': [4, 5, 6]}\n",
      "\n",
      "{'low': [10, 20, 30], 'high': [4, 500, 6]}\n",
      "{'low': [10, 20, 30], 'high': [4, 500, 6]}\n",
      "{'low': [1, 2, 3], 'high': [4, 500, 6]}\n"
     ]
    }
   ],
   "source": [
    "L1 = [1, 2, 3]\n",
    "L2 = [4, 5, 6]\n",
    "d = {'low':L1, 'high':L2}\n",
    "e = d\n",
    "f = d.copy()\n",
    "print(d)\n",
    "print(e)\n",
    "print(f)\n",
    "print()\n",
    "d['low'] = [10, 20, 30]\n",
    "d['high'][1] = 500\n",
    "print(d)\n",
    "print(e)\n",
    "print(f)"
   ]
  },
  {
   "cell_type": "markdown",
   "id": "3ce09ce4",
   "metadata": {},
   "source": [
    "- 1) 위 코드의 수행 결과 d와 e는 항상 같은 결과를 출력한다. 그 이유는 무엇인가?"
   ]
  },
  {
   "cell_type": "markdown",
   "id": "182783e8",
   "metadata": {},
   "source": [
    "- 2) 위 코드의 수행 결과 마지막 f의 내용은 다음과 같다. 이 때 'high' 키의 값 내용 중 500이 출력된 이유와 'low' 키의 값 내용 중 [1, 2, 3]이 출력된 이유를 설명하시오 ([hint]: shallow copy 관점에서 설명하시오.)"
   ]
  },
  {
   "cell_type": "markdown",
   "id": "1a300123",
   "metadata": {},
   "source": [
    "#### [6번문제 코드 설명]\n",
    "- 앝은 복사는 리스트를 별도 생성하지만, 객체는 모두 같은 것을 가리키고 있다.\n",
    "- 리스트에서 특정 값을 직접 지정하여 변경하면 d와 f는 같은 객체를 가리키고 있기 때문에 f도 같이 'high'가 변경된다.\n",
    "- 그러나 d의 리스트 'low' 자체를 통째로 변경하면 'low'가 새로운 리스트 [10, 20, 30]를 참조하게 되므로 f에는 영향을 주지 않는다."
   ]
  },
  {
   "cell_type": "markdown",
   "id": "c1ad7f73",
   "metadata": {},
   "source": []
  },
  {
   "cell_type": "markdown",
   "id": "4e79a385",
   "metadata": {},
   "source": [
    "#### 7. 사전 d = {'one':1, 'two':2, 'three':3, 'four':4, 'five':5}가 주어졌을 때 다음 요구사항에 맞는 코드를 제시하시오."
   ]
  },
  {
   "cell_type": "markdown",
   "id": "2fa03df8",
   "metadata": {},
   "source": [
    "- [참고]: d.keys(), d.values()를 통해 리스트를 얻어낸 후 리스트가 지니고 있는 sort(cmp=None, key=None, reverse=False)함수를 활용하시오.\n",
    "- 1) 키의 알파벳 오름차순 순서대로 튜플 (키, 값)을 차례대로 출력하시오.\n",
    "- 2) 키의 알파벳 내림차순 순서대로 튜플 (키, 값)을 차례대로 출력하시오.\n",
    "- 3) 값의 오름차순 순서대로 튜플 (키, 값)을 차례대로 출력하시오.\n",
    "- 4) 값의 내림차순 순서대로 튜플 (키, 값)을 차례대로 출력하시오."
   ]
  },
  {
   "cell_type": "code",
   "execution_count": 76,
   "id": "2eb41dcf",
   "metadata": {},
   "outputs": [
    {
     "name": "stdout",
     "output_type": "stream",
     "text": [
      "[('five', 5), ('four', 4), ('one', 1), ('three', 3), ('two', 2)]\n",
      "[('two', 2), ('three', 3), ('one', 1), ('four', 4), ('five', 5)]\n",
      "[('one', 1), ('two', 2), ('three', 3), ('four', 4), ('five', 5)]\n",
      "[('five', 5), ('four', 4), ('three', 3), ('two', 2), ('one', 1)]\n"
     ]
    }
   ],
   "source": [
    "d = {'one':1, 'two':2, 'three':3, 'four':4, 'five':5}\n",
    "def f(x): return x[1]\n",
    "print(sorted(d.items(), key=None, reverse=False))  #키의 알파벳 오름차순\n",
    "print(sorted(d.items(), key=None, reverse=True))   #키의 알파벳 내림차순\n",
    "print(sorted(d.items(), key = f, reverse=False))   #값의 오름차순\n",
    "print(sorted(d.items(), key = f, reverse=True))    #값의 내림차순"
   ]
  },
  {
   "cell_type": "markdown",
   "id": "f3d070a8",
   "metadata": {},
   "source": [
    "#### [7번문제 코드 설명]\n",
    "- f 함수를 구현하여 x[1]을 반환하도록 하는데, 이때 x[1]은 d의 value이다.\n",
    "- 먼저 키의 알파벳 오름차순과 내림차순은 기본 d.item()에 key를 따로 설정하지 않고, reverse만 사용하여 두 값을 출력할 수 있다.\n",
    "- 그리고 값에 의한 오름차순과 내림차순을 출력하기 위해서는 sorted함수 내의 key값을 설정해주어야 하는데 이때 f함수를 사용하고, 오름차순과 내림차순의 차이는 reverse를 통해서 나타낸다."
   ]
  },
  {
   "cell_type": "markdown",
   "id": "fa95473a",
   "metadata": {},
   "source": []
  },
  {
   "cell_type": "markdown",
   "id": "0d8de6d6",
   "metadata": {},
   "source": [
    "#### 8. 다음 문제를 정확히 읽고 적합한 코딩을 제시하시오."
   ]
  },
  {
   "cell_type": "markdown",
   "id": "a878d486",
   "metadata": {},
   "source": [
    "- length(X)를 다음과 같이 정의한다 : 10진수로 표현된 X의 자릿수\n",
    "- Strange라는 숫자를 아래과 같이 정의한다.\n",
    "    - 음이 아닌 정수 중 자릿수가 1인 모든 숫자는 Strange이다.\n",
    "    - length(X) > 1 인 숫자 X 는 다음 2가지를 만족하면 Strange이다.\n",
    "        - X는 length(X)로 정확히 나누어 떨어진다.\n",
    "        - X / length(X) 가 strnage이다.\n",
    "- 이 문제에서 숫자 하나가 주어질 때, 이 숫자가 Strange인지 판단하는 함수 isStrange(num)을 작성하시오.\n",
    "- isStrange(num) 함수가 재귀적인 함수가 되도록 작성해 보세요."
   ]
  },
  {
   "cell_type": "code",
   "execution_count": 41,
   "id": "91ae3a2b",
   "metadata": {},
   "outputs": [
    {
     "name": "stdout",
     "output_type": "stream",
     "text": [
      "0\n",
      "True\n",
      "\n",
      "56\n",
      "True\n",
      "\n",
      "100\n",
      "False\n",
      "\n",
      "7882602506492313600\n",
      "True\n",
      "\n",
      "6012302549522098651\n",
      "False\n",
      "\n"
     ]
    }
   ],
   "source": [
    "def length(num):\n",
    "    i = 1\n",
    "    j = 10\n",
    "    if(num < 0): return -1\n",
    "    while(num / j >= 1):\n",
    "        i += 1\n",
    "        j *= 10\n",
    "    return i\n",
    "\n",
    "def isStrange(num):\n",
    "    n = length(num)\n",
    "    if n >= 0 and n != 1 and num % n != 0:\n",
    "        if(num / n <= 20):\n",
    "            return False\n",
    "        else:\n",
    "            return isStrange(num / n)\n",
    "    return True\n",
    "\n",
    "for i in range(5):\n",
    "    print(isStrange(int(input())))\n",
    "    print()"
   ]
  },
  {
   "cell_type": "markdown",
   "id": "36e6ae94",
   "metadata": {},
   "source": [
    "#### [8번문제 코드 설명]\n",
    "- length 함수를 통해 자릿수를 계산하는 i와 자릿수 계산에 필요한 j를 초기화한다.\n",
    "- length 함수 매개변수로 받은 num이 만약 0이면 -1을 반환한다.\n",
    "- length 함수에서 while문을 통해 num을 j로 나누었을 때 1보다 크거나 같으면 자릿수 i에 1을 더하고 j에 10을 곱하여 다음 자릿수를 계산할 수 있도록 한다.\n",
    "- while문이 종료되면 i를 반환하고 반환 값이 isStrange 함수의 n에 저장된다.\n",
    "- if문을 통해 만약 num이 0보다 크거나 같고, n이 1이 아니며, num을 n으로 나눈 나머지가 0이 아니면 False를 반환하고, 그 외에 경우 모두 True를 반환한다.\n",
    "- 그러나 본 if문 안에 또 다른 if문을 생성하여 자리수가 1인 모든 숫자는 True이므로 그 전까지만 재귀를 돌도록 하기 위해서 만약 num을 n으로 나눈 것이 20보다 작아지면 모두 False로 반환하도록 하고, 그 전까지는 계속 해당 isStrange문을 돌 수 있도록 한다."
   ]
  },
  {
   "cell_type": "markdown",
   "id": "0520a901",
   "metadata": {},
   "source": []
  },
  {
   "cell_type": "markdown",
   "id": "76be11e4",
   "metadata": {},
   "source": [
    "#### 9. 다음 문제를 정확히 읽고 적합한 코딩을 제시하시오."
   ]
  },
  {
   "cell_type": "markdown",
   "id": "a2f91d4f",
   "metadata": {},
   "source": [
    "- 1번 그룹, 2번 그룹, ... n번 그룹으로 번호가 매겨진 총 n개의 그룹이 존재하고, ith 그룹에는 임의의 팀원 수 ai 명이 있다.\n",
    "하나의 버스 정류장이 있고, 버스는 오직 한 대만 운영한다. 버스는 버스 정류장에 도착하고 모든 그룹은 버스를 통해 여행하길 원한다.\n",
    "하지만, 같은 그룹에 속한 팀원들은 분리되기를 원치 않는다. 그래서 그룹의 모든 팀원이 탈 수 있을 때 에만 그 그룹은 버스에 탑승한다.\n",
    "또한, 이들은 그룹의 번호순으로 여행을 하길 원한다. 예를 들어, 3번 그룹은 1번 그룹과 2번 그룹이 여행을 한 뒤에 버스를 탈 수 있거나, 1번 그룹과 2번 그룹이 이미 버스에 탑승한 상태에 있을 때 동시에 버스를 탈 수 있다.\n",
    "마지막으로, 버스는 빈 좌석이 없을 때 에만 여행을 떠난다.\n",
    "\n",
    "- 이 문제에서 각 그룹의 팀원 수가 리스트로 주어질 때, 가능한 모든 버스의 사이즈 x(x명의 사람들이 동시에 탈 수 있음)를 반환하는 함수 solve(a) 를 작성하시오.\n",
    "- [주의] 반드시 계산 복잡도를 최대한 낮추세요. 아래 예시 3번을 실행했을 때 결과가 바로 나타날 수 있도록!!"
   ]
  },
  {
   "cell_type": "code",
   "execution_count": 8,
   "id": "aada4877",
   "metadata": {},
   "outputs": [
    {
     "name": "stdout",
     "output_type": "stream",
     "text": [
      "[3, 4, 6, 12]\n",
      "[1, 2, 4]\n",
      "[9999, 19998, 39996, 49995, 79992, 99990, 159984, 199980, 249975, 319968, 399960, 499950, 799920, 999900, 1249875, 1599840, 1999800, 2499750, 3999600, 4999500, 6249375, 7999200, 9999000, 12498750, 19998000, 24997500, 31246875, 39996000, 49995000, 62493750, 99990000, 124987500, 199980000, 249975000, 499950000, 999900000]\n"
     ]
    }
   ],
   "source": [
    "def solve(a):\n",
    "    answer = []\n",
    "    num = 0\n",
    "    t = 0\n",
    "    for i in a:\n",
    "        num += i\n",
    "    for i in range(a[0],num + 1,a[t]):\n",
    "        if(num % i != 0): continue\n",
    "        num1 = 0\n",
    "        error = False\n",
    "        for j in a:\n",
    "            num1 += j\n",
    "            if num1 == i: num1 -= i\n",
    "            elif num1 > i:\n",
    "                error = True\n",
    "                break\n",
    "        if error == False and num1 == 0:\n",
    "            answer.append(i)\n",
    "        t += 1\n",
    "    return answer\n",
    "\n",
    "print(solve([1, 2, 1, 1, 1, 2, 1, 3]))\n",
    "print(solve([1, 1, 1, 1]))\n",
    "print(solve([9999] * 10**5))"
   ]
  },
  {
   "cell_type": "markdown",
   "id": "03648917",
   "metadata": {},
   "source": [
    "#### [9번문제 코드 설명]\n",
    "- 빈 리스트 answer를 정의하고 num을 0, t를 0으로 초기화하여 선언한다.\n",
    "- for문을 통해 solve함수의 매개변수로 받은 리스트 a를 범위로 하여 num에 해당 요소들을 모두 더한다,\n",
    "- 다음 for 문을 a[0]부터 num까지 a[t] 간격으로 설정하고 if문을 통해 num 을 i로 나눈 나머지가 0이 아닐 때는 continue한다.\n",
    "- 그리고 num1을 0으로, error를 False로 초기화 하고, for문을 통해 a를 범위로 하여 num1에 해당 요소들을 하나씩 추가한다.\n",
    "- for문 안에서 if문을 통해 num1이 만약 i와 같을 경우 num1에서 i을 빼고, 또는 num1이 i보다 클 때 error를 True로 바꾼 뒤 break한다.\n",
    "- for문을 빠져나온 뒤 error가 False이고 num1이 0이면 리스트 answer에 i를 추가한다. 그리고 t에 1을 더한 후 외부 for문을 다시 반복한다. 외부 for문도 끝이 나면 리스트 answer을 반환한다."
   ]
  },
  {
   "cell_type": "markdown",
   "id": "5a80d527",
   "metadata": {},
   "source": []
  },
  {
   "cell_type": "markdown",
   "id": "a27311ef",
   "metadata": {},
   "source": [
    "------"
   ]
  },
  {
   "cell_type": "markdown",
   "id": "eb685b5a",
   "metadata": {},
   "source": [
    "[Incremental Project 문제]"
   ]
  },
  {
   "cell_type": "markdown",
   "id": "2f6523f2",
   "metadata": {},
   "source": [
    "이전 Assignment 2의 마지막 문제는 웹 URL로 지정된 웹페이지를 문자열로 가져와 모든 HTML 태그를 제외한 순수 텍스트를 얻어내고 그 안에 존재하는 단어를 추출하고 단어들의 총 개수를 출력하는 프로그램을 작성하는 것이었다. 이번에는 그 마지막 숙제를 그대로 확장하여 웹 URL로 지정된 웹페이지 내 순수 텍스트 안에 존재하는 각 단어들에 대해 다음 요구사항 대로 출력하는 프로그램을 작성하시오."
   ]
  },
  {
   "cell_type": "code",
   "execution_count": 7,
   "id": "1669d8ad",
   "metadata": {},
   "outputs": [
    {
     "name": "stdout",
     "output_type": "stream",
     "text": [
      "단어 개수: 547\n",
      "{'': 1, '#10월호': 1, '#Wings_Magazine': 1, '%': 1, \"'나래'\": 1, '0': 1, '01': 1, '041-560-1114': 1, '09': 1, '1': 1, '10월호': 1, '13': 1, '1위': 1, '1위”': 1, '2019.': 1, '2021': 1, '2021-10-14': 1, '2021-10-15': 1, '2021-10-18': 1, '2021-10-22': 1, '2021년': 1, '2021학년도': 1, '2학기': 1, '3,296': 1, '30년': 1, '30주년': 1, '4년제': 1, '84.7': 1, 'ALIO경영공시': 1, 'All': 1, 'CHI': 1, 'COVER': 1, 'Copyright': 1, 'CoverStory': 1, 'ENG': 1, 'HRD학과': 1, 'IPP·Uni-Tech허브사업단': 1, 'IPP센터': 1, 'IPP포털': 1, 'IT융합과학경영대학원': 1, 'KOREATECH': 1, 'KOREATECH.': 1, 'KOREATECH20년': 1, 'KOREATECH소개': 1, 'LINC+사업단': 1, 'Magazine': 1, 'NEWS': 1, 'NTIS': 1, 'PLUS': 1, 'Q&A': 1, 'SEARCH': 1, 'SNS': 1, 'STORY': 1, 'Service': 1, 'Statistics': 1, 'Story': 1, 'TOP': 1, 'VISION2020': 1, 'VOC': 1, 'Wings': 1, '[KOREATECH/한국기술교육대학교]': 1, '[생협]': 1, '[한국기술교육대학교/KOREATECH]': 1, 'inter@koreatech.ac.kr': 1, 'reserved.': 1, 'right': 1, 'str1': 2, '|': 1, '“고용서비스는': 1, '“교육중심대학': 1, 'ⓒ': 1, '감염병': 1, '개교': 1, '개선사항': 1, '개요': 1, '개인정보처리방침': 1, '건': 1, '건축공학전공': 1, '게시판': 1, '게시한': 1, '결과확인': 1, '경영공시': 1, '고객만족경영': 1, '고객만족경영체계': 1, '고용노동부': 1, '고용부': 1, '고용서비스정책학과': 1, '고용서비스정책학과장': 1, '공개': 1, '공공데이터': 1, '공공데이터개방': 1, '공식블로그': 1, '공지사항': 1, '교가': 1, '교과과정': 1, '교내장학금': 1, '교내주요기관': 1, '교수학습센터': 1, '교양학부': 1, '교외장학금': 1, '교육목표': 1, '교육부': 1, '교육장비검색': 1, '교육중심대학(11년연속)': 1, '교직원': 1, '교환학생안내': 1, '구매입찰': 1, '국민권익위원회': 1, '국제교류': 1, '국제교류현황': 1, '국제교육센터': 1, '국제협력프로그램': 1, '규정집': 1, '근로복지공단': 1, '기계공학부': 1, '기념사업': 1, '기본적인': 1, '기부자예우': 1, '기술리더,': 1, '기증': 1, '기획재정부': 1, '날': 1, '네이버': 1, '네이버블로그': 1, '능력개발교육원': 1, '다담창의센터': 1, '다산정보관': 1, '단기근로장학생': 1, '닫기': 1, '대외유관기관': 1, '대학': 1, '대학,': 1, '대학/대학원': 1, '대학생활': 1, '대학소개': 1, '대학소식지': 1, '대학알리미': 1, '대학요람': 1, '대학원': 1, '대학원소개': 1, '대학정보공시': 1, '대학조직': 1, '대학캠퍼스투어': 1, '대학특성': 1, '대학혁신사업단': 1, '대학혁신지원사업': 1, '대학현황': 1, '대학홍보영상': 1, '대한민국': 1, '더보기': 1, '데이터의견수렴·오류신고': 1, '도로명주소안내': 1, '도서관이용안내': 1, '도제허브사업단': 1, '독서토론대회': 1, '동아리안내': 1, '듀얼공동훈련센터허브사업단': 1, '디자인·건축공학부': 1, '디자인공학전공': 1, '만난다고?..&quot;아바타로': 1, '메카트로닉스공학부': 1, '모금캠페인': 1, '모바일화폐(페이코)사용안내': 1, '모의성적계산': 1, '모집': 1, '못': 1, '무선랜사용신청': 1, '무선랜신청': 1, '민간투자사업': 1, '민방위안내': 1, '및': 1, '반도체': 1, '발자취': 1, '발전기금': 1, '발전기금소식': 1, '발표': 1, '변동': 1, '병무안내': 1, '병무안내관련사이트': 1, '병사안내': 1, '보건실안내': 1, '보기': 1, '본문바로가기': 1, '부패행위': 1, '부패행위신고': 1, '분포현황': 1, '비전': 1, '사람인': 1, '사업소개': 1, '사업소식': 1, '사업실명제': 1, '사전정보공표목록': 1, '사진': 1, '사회봉사센터': 1, '사회안전망...전문인력': 1, '산업경영학부': 1, '산업통상자원부': 1, '산학협력단': 1, '상담진로개발센터': 1, '생활관': 1, '생활관자치회': 1, '생활협동조합': 1, '서비스': 1, '서비스메뉴': 1, '선포식': 1, '성과를': 1, '셔틀버스': 1, '소프트웨어사용안내': 1, '수강신청': 1, '수령액': 1, '수상결과': 1, '스킵네비게이션': 1, '시설보수신청': 1, '시설현황': 1, '식단': 1, '신고': 1, '신문고': 1, '심볼': 1, '아우누리': 1, '안내': 1, '안전': 1, '안전보건경영': 1, '안전보건방침': 1, '알리오': 1, '어학연수안내': 1, '언론기사': 1, '언론보도영상': 1, '에너지신소재화학공학부': 1, '엠블럼': 1, '역대총장': 1, '연혁': 1, '열린총장실': 1, '예비대학생': 1, '오늘의': 1, '오류신고': 1, '온라인교육': 1, '온라인교육지원': 1, '온라인평생교육원': 1, '우측내용': 1, '워크넷': 1, '원격지원': 1, '원격훈련심사센터': 1, '웹갤러리': 1, '웹메일': 1, '위': 1, '위원장': 1, '유튜브': 1, '육성해야”': 1, '윤리헌장': 1, '융합학과': 1, '은행업무': 1, '의': 1, '의견란': 1, '이루었습니다.': 1, '이메일무단수집거부': 1, '익명신고': 1, '인사말': 1, '인스타그램': 1, '인재상': 1, '인크루트': 1, '인터넷정보공개청구': 1, '인터넷증명발급': 1, '일반공지': 1, '일반대학원': 1, '일반인': 1, '일학습병행대학': 1, '입시요강': 1, '입학안내': 1, '입학정보': 1, '입학정보를': 1, '자료': 1, '자료실': 1, '자세히': 1, '자주찾는': 1, '잡코리아': 1, '장비기술교육센터': 1, '장신철': 1, '장학공지': 1, '장학금': 1, '장학제도': 1, '재생': 1, '재정현황': 1, '재학생': 1, '재학생현황': 1, '전국': 1, '전기전자통신공학부': 1, '전년도': 1, '전체메뉴닫기': 1, '전체메뉴보기': 1, '전체메뉴열기': 1, '전화번호검색': 1, '전화번호찾기': 1, '정보공개': 1, '정보공개업무편람': 1, '정보공개이의신청': 1, '정보공개제도안내': 1, '정보를': 1, '정지': 1, '제6회': 1, '제공합니다.': 1, '조직구성': 1, '졸업': 1, '졸업작품': 1, '좌측내용': 1, '주메뉴바로가기': 1, '주요사이트': 1, '중앙일보대학평가‘교육중심대학’': 1, '증명서발급': 1, '직업능력심사평가원': 1, '직장예비군안내': 1, '참여하기': 1, '창업지원센터': 1, '찾아오시는길': 1, '채용공지': 1, '천안시청': 1, '천원': 1, '청년워크넷': 1, '청렴게시판': 1, '청렴자료실': 1, '청탁금지법': 1, '초청의': 1, '총장동정': 1, '총장실': 1, '총장인사말': 1, '총장프로필': 1, '총학생회': 1, '최고경영자과정': 1, '최신': 1, '추진체계': 1, '충청남도청': 1, '취업관련': 1, '취업률': 1, '취업정보': 1, '캠퍼스': 1, '캠퍼스생활': 1, '캠퍼스투어': 1, '커뮤니티': 1, '컴퓨터공학부': 1, '코로나19관련공지': 1, '코로나에': 1, '코리아텍': 1, '코리아텍방송국': 1, '코리아텍소개': 1, '코리아텍의': 1, '테크노인력개발전문대학원': 1, '통학/셔틀버스안내': 1, '통학·': 1, '특수교과': 1, '특장점': 1, '팝업존': 1, '페이스북': 1, '포토갤러리': 1, '포토갤러리더보기': 1, '하반기': 1, '학과안내': 1, '학교법인임원공시': 1, '학부과별': 1, '학부모': 1, '학부모님': 1, '학부소개': 1, '학사공지': 1, '학사안내': 1, '학사일정': 1, '학사종합서비스': 1, '학사종합시스템': 1, '학생식당': 1, '학생이': 1, '학생자치단체': 1, '학생증발급': 1, '학적': 1, '한국고용노동교육원': 1, '한국고용정보원': 1, '한국교육개발원': 1, '한국기술교육대': 1, '한국기술교육대학교': 1, '한국기술교육대학교-KOREATECH님이': 1, '한국노동연구원': 1, '한국산업안전보건공단': 1, '한국산업인력공단': 1, '한국장애인고용공단': 1, '한국직업능력개발원': 1, '한국폴리텍대학': 1, '한다&quot;': 1, '함께하는': 1, '해외연수': 1, '행복한': 1, '행사참여신청': 1, '행사참여안내': 1, '행정공시': 1, '행정서비스헌장': 1, '행정정보소재': 1, '협약까지': 1, '홈페이지': 1, '홍보관련영상': 1, '홍보대사': 1, '홍보브로셔': 1, '홍보영상': 1, '홍보영상물': 1, '황태현': 1, '회계공시': 1, '회의하고,': 1, '후원커뮤니티': 1}\n"
     ]
    }
   ],
   "source": [
    "import requests\n",
    "req = requests.get('http://www.koreatech.ac.kr')\n",
    "source = req.text\n",
    "#print(source)\n",
    "\n",
    "class Stack:\n",
    "    def __init__(self): #생성자\n",
    "        self.top = []\n",
    "    def __contains__(self,item): #스택에 해당 아이템이 있는지\n",
    "        return item in self.top\n",
    "    def __str__(self): #스택 반환\n",
    "        return str(self.top)\n",
    "    def __len__(self): #스택 길이 반환\n",
    "        return len(self.top)\n",
    "    def push(self, item): #추가\n",
    "        self.top.append(item)\n",
    "    def pop(self): #삭제 후 반환\n",
    "        if not self.isEmpty():\n",
    "            return self .top.pop(-1)\n",
    "        else:\n",
    "            print(\"Stack underflow\")\n",
    "            exit()\n",
    "    def peek(self): #삭제하지 않고 반환\n",
    "        if not self.isEmpty():\n",
    "            return self.top[-1]\n",
    "        else:\n",
    "            print(\"Stack overflow\")\n",
    "            exit()\n",
    "    def isEmpty(self): #비어있는지 확인\n",
    "        return len(self.top) == 0\n",
    "    def size(self): #스택 크기 반환\n",
    "        return len(self.top)\n",
    "    def clear(self): #초기화\n",
    "        self.top=[] \n",
    "    def display(self,i=0): #화면에 띄움\n",
    "        if i==len(self.top) : return\n",
    "        print(self.top[-(i+1)], end = '') \n",
    "        self.display(i+1)\n",
    "        \n",
    "def main(source):\n",
    "    a = Stack()\n",
    "    t = list()\n",
    "    i = 0\n",
    "    dict1 = {}\n",
    "    for ch in source:\n",
    "        a.push(ch)\n",
    "    x = ['(',')','\\t','\\n',' ','=','-','!','~','?','$',':','+','&','#']\n",
    "    while not a.isEmpty():\n",
    "        ch = a.pop()\n",
    "        if(a.isEmpty()): break\n",
    "        ch1 = a.peek()\n",
    "        if(ch == '<' and (ch1 not in x) and (ch2 not in x)):\n",
    "            while (len(a) != 1):\n",
    "                ch1 = a.pop()\n",
    "                if(ch1 == '>'):\n",
    "                    i += 1\n",
    "                    t.append(\" \")\n",
    "                    break\n",
    "                t.append(ch1)\n",
    "        ch2 = ch\n",
    "    t.reverse()\n",
    "    s = ''.join(t)\n",
    "    s = s.lstrip()\n",
    "    str1 = \"\"\n",
    "    for str in s:\n",
    "        if(str == ' '):\n",
    "            #print(str1)\n",
    "            if(str1 in dict1.keys()):\n",
    "                dict1.update(str1 = dict1[str1]+1)       \n",
    "            else :\n",
    "                dict1.setdefault(str1,1)\n",
    "            str1 = \"\"\n",
    "        else:  \n",
    "            str1 += str\n",
    "    if(str1 in dict1.keys()):\n",
    "        dict1.update(str1 = dict1[str1]+1)\n",
    "    else :\n",
    "        dict1.setdefault(str1,1)\n",
    "\n",
    "    tmp = sorted(dict1)\n",
    "    dict2 = {}\n",
    "    for str in tmp:\n",
    "        dict2.setdefault(str , dict1[str])\n",
    "    \n",
    "   # print(s)\n",
    "   # print('\\n')\n",
    "    num = 1\n",
    "    for i in range(len(s)):\n",
    "        if(s[i] == \" \" and s[i-1] != \" \"):\n",
    "            num += 1\n",
    "    print(\"단어 개수:\", num)\n",
    "    print(dict2)\n",
    "if __name__ == \"__main__\": main(source)"
   ]
  },
  {
   "cell_type": "markdown",
   "id": "d1bc80b2",
   "metadata": {},
   "source": [
    "#### [Incremental Project 문제 코드 설명]\n",
    "- 먼저 문자열 s의 왼쪽 빈 공백을 모두 lstrip()을 사용해 없애준다.\n",
    "- str1이라는 빈 문자열을 선언하고 for문의 if문 통해 s 문자열의 하나하나가 빈 공백일 때 내부 if문을 추가 설정하여 dict1의 키 값을 추출한 리스트의 각 요소 str1이 있으면 dict1을 update하는데 이때 키 str1을 값 dict1[str1]+1로 지정한다. 그 외에는 dict1을 setdefault하는데 키 str1을 값 1로 하여 키와 값을 추가한다.\n",
    "- 외부 if문에 대한 else에서는 str1 에 str을 더한다.\n",
    "- for문을 빠져나와 for문 안에 있던 if-else문을 다시 한 번 반복한다.\n",
    "- 그리고 tmp에 dict1을 정렬한 값을 넣고, dict2 딕셔너리를 새로 정의한다.\n",
    "- for문을 통해 tmp의 각 요소들을 dict2에 키는 str, 값은 dict1[str]로 새로 추가한다."
   ]
  },
  {
   "cell_type": "markdown",
   "id": "a279a3b2",
   "metadata": {},
   "source": [
    "과제 소감: Incremental 문제도 오래걸리는데 생각보다 일반 문제도 난이도가 있어서 문제 푸는 시간이 꽤 걸렸다. 그래도 풀면서 느꼈던 것은 파이썬 실력이 늘고 있는 것 같아서 나름 뿌듯하기도 했다. 하지만 아직 어려운 것이 너무 많은 것 같다."
   ]
  }
 ],
 "metadata": {
  "kernelspec": {
   "display_name": "Python 3",
   "language": "python",
   "name": "python3"
  },
  "language_info": {
   "codemirror_mode": {
    "name": "ipython",
    "version": 3
   },
   "file_extension": ".py",
   "mimetype": "text/x-python",
   "name": "python",
   "nbconvert_exporter": "python",
   "pygments_lexer": "ipython3",
   "version": "3.8.8"
  }
 },
 "nbformat": 4,
 "nbformat_minor": 5
}
